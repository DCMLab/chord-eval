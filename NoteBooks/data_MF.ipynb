{
 "cells": [
  {
   "cell_type": "markdown",
   "metadata": {},
   "source": [
    "# CSV files for metrics_features.ipynb\n",
    "\n",
    "This note book contains the code that builds every csv files needed for the notebook 'metrics_features'."
   ]
  },
  {
   "cell_type": "code",
   "execution_count": 1,
   "metadata": {},
   "outputs": [],
   "source": [
    "import pandas as pd\n",
    "import numpy as np\n",
    "\n",
    "from glob import glob\n",
    "from fractions import Fraction\n",
    "from math import *\n",
    "\n",
    "from chord_eval.metric import get_distance\n",
    "from chord_eval.data_types import ChordType, PitchType\n",
    "from chord_eval.constants import TRIAD_REDUCTION"
   ]
  },
  {
   "cell_type": "markdown",
   "metadata": {},
   "source": [
    "___\n",
    "## Metric comparison\n",
    "\n",
    "Creation of csv file dist_to_Cmaj.csv"
   ]
  },
  {
   "cell_type": "code",
   "execution_count": 2,
   "metadata": {},
   "outputs": [],
   "source": [
    "chord_types = [chord_type for chord_type in ChordType] * 12*4\n",
    "midi_roots = [i for k in list(np.arange(0,12)) for i in [k] * 12] * 4\n",
    "tpc_roots = [i for k in [0,-5,2,-3,4,-1,-6,1,-4,3,-2,5] for i in [k] * 12] * 4\n",
    "inversions = [i for k in list(np.arange(4)) for i in [k] * 12*12]\n",
    "\n",
    "dist_to_Cmaj = pd.DataFrame({'midi_root':midi_roots,\n",
    "                             'tpc_root':tpc_roots,\n",
    "                             'chord_type':chord_types,\n",
    "                             'inversion':inversions\n",
    "                             })"
   ]
  },
  {
   "cell_type": "code",
   "execution_count": 3,
   "metadata": {},
   "outputs": [],
   "source": [
    "distance = 'SPS'\n",
    "SPS_dist = [get_distance(distance=distance, root1=0, root2=r.midi_root,\n",
    "                         chord_type1=ChordType.MAJOR, chord_type2=r.chord_type,\n",
    "                         inversion1=0, inversion2=r.inversion)\n",
    "            for idx_r, r in dist_to_Cmaj.iterrows()]\n",
    "dist_to_Cmaj['SPS_dist'] = SPS_dist"
   ]
  },
  {
   "cell_type": "code",
   "execution_count": 4,
   "metadata": {},
   "outputs": [],
   "source": [
    "distance = 'voice leading'\n",
    "voice_leading_dist = [get_distance(distance=distance, root1=0, root2=r.midi_root,\n",
    "                                   chord_type1=ChordType.MAJOR, chord_type2=r.chord_type,\n",
    "                                   inversion1=0, inversion2=r.inversion, \n",
    "                                   bass_weight=3)\n",
    "                      for idx_r, r in dist_to_Cmaj.iterrows()]\n",
    "dist_to_Cmaj['voice_leading_dist'] = voice_leading_dist"
   ]
  },
  {
   "cell_type": "code",
   "execution_count": 5,
   "metadata": {},
   "outputs": [],
   "source": [
    "distance = 'voice leading'\n",
    "vl_dist_dupl = [get_distance(distance=distance, root1=0, root2=r.midi_root,\n",
    "                                   chord_type1=ChordType.MAJOR, chord_type2=r.chord_type,\n",
    "                                   inversion1=0, inversion2=r.inversion, \n",
    "                                   bass_weight=3, duplicate_bass=False)\n",
    "                      for idx_r, r in dist_to_Cmaj.iterrows()]\n",
    "dist_to_Cmaj['vl_dist_nodupl'] = vl_dist_dupl"
   ]
  },
  {
   "cell_type": "code",
   "execution_count": 6,
   "metadata": {},
   "outputs": [],
   "source": [
    "distance = 'voice leading'\n",
    "vl_dist_tpc = [get_distance(distance=distance, root1=0, root2=r.tpc_root,\n",
    "                                   chord_type1=ChordType.MAJOR, chord_type2=r.chord_type,\n",
    "                                   inversion1=0, inversion2=r.inversion, \n",
    "                                   bass_weight=3, pitch_type=PitchType.TPC, only_bass_tpc=False)\n",
    "                      for idx_r, r in dist_to_Cmaj.iterrows()]\n",
    "dist_to_Cmaj['vl_dist_tpc'] = vl_dist_tpc"
   ]
  },
  {
   "cell_type": "code",
   "execution_count": 7,
   "metadata": {},
   "outputs": [],
   "source": [
    "distance = 'voice leading'\n",
    "vl_dist_tpc_dupl = [get_distance(distance=distance, root1=0, root2=r.tpc_root,\n",
    "                                   chord_type1=ChordType.MAJOR, chord_type2=r.chord_type,\n",
    "                                   inversion1=0, inversion2=r.inversion, \n",
    "                                   bass_weight=3, duplicate_bass=False, pitch_type=PitchType.TPC, only_bass_tpc=False)\n",
    "                      for idx_r, r in dist_to_Cmaj.iterrows()]\n",
    "dist_to_Cmaj['vl_dist_tpc_nodupl'] = vl_dist_tpc_dupl"
   ]
  },
  {
   "cell_type": "code",
   "execution_count": 8,
   "metadata": {},
   "outputs": [],
   "source": [
    "distance = 'voice leading'\n",
    "vl_dist_tpc_dupl = [get_distance(distance=distance, root1=0, root2=r.tpc_root,\n",
    "                                   chord_type1=ChordType.MAJOR, chord_type2=r.chord_type,\n",
    "                                   inversion1=0, inversion2=r.inversion, \n",
    "                                   bass_weight=3, pitch_type=PitchType.TPC, only_bass_tpc=True)\n",
    "                      for idx_r, r in dist_to_Cmaj.iterrows()]\n",
    "dist_to_Cmaj['vl_dist_tpc_bass'] = vl_dist_tpc_dupl"
   ]
  },
  {
   "cell_type": "code",
   "execution_count": 9,
   "metadata": {},
   "outputs": [],
   "source": [
    "distance = 'tone by tone'\n",
    "tone_by_tone_dist = [get_distance(distance=distance, root1=0, root2=r.midi_root,\n",
    "                                  chord_type1=ChordType.MAJOR, chord_type2=r.chord_type,\n",
    "                                  inversion1=0, inversion2=r.inversion,\n",
    "                                  root_weight=3, bass_weight=3)\n",
    "                     for idx_r, r in dist_to_Cmaj.iterrows()]\n",
    "dist_to_Cmaj['tone_by_tone_dist'] = tone_by_tone_dist"
   ]
  },
  {
   "cell_type": "code",
   "execution_count": 10,
   "metadata": {},
   "outputs": [],
   "source": [
    "dist_to_Cmaj.to_csv('../Data/dist_to_Cmaj.csv', index=False)"
   ]
  },
  {
   "cell_type": "markdown",
   "metadata": {},
   "source": [
    "___"
   ]
  },
  {
   "cell_type": "code",
   "execution_count": 2,
   "metadata": {},
   "outputs": [],
   "source": [
    "dist_to_Cmaj = pd.read_csv('../Data/dist_to_Cmaj.csv')\n",
    "TRIAD = set(TRIAD_REDUCTION[chord_type] for chord_type in ChordType)\n",
    "dist_to_Cmaj['chord_type'] = dist_to_Cmaj['chord_type'].apply(lambda r : ChordType[r.split(\".\")[1]])"
   ]
  },
  {
   "cell_type": "code",
   "execution_count": 3,
   "metadata": {},
   "outputs": [],
   "source": [
    "dist_to_Cmaj.drop(dist_to_Cmaj.query('chord_type in @TRIAD and inversion == 3').index, inplace=True)\n",
    "dist_to_Cmaj['chord_type_inv'] = dist_to_Cmaj.apply(lambda r : str(r.chord_type).split(\".\")[1]+\"_inv\"+str(r.inversion), axis=1)"
   ]
  },
  {
   "cell_type": "markdown",
   "metadata": {},
   "source": [
    "___\n",
    "## Program comparison for SPS\n",
    "\n",
    "Creation of csv file sps_programs_toC.csv"
   ]
  },
  {
   "cell_type": "code",
   "execution_count": 11,
   "metadata": {},
   "outputs": [],
   "source": [
    "roots = [i for k in list(np.arange(0,12)) for i in [k]] * 4\n",
    "programs = [i for k in (0,24,40,56) for i in [k] * 12]\n",
    "\n",
    "sps_programs_toC = pd.DataFrame({'root':roots,\n",
    "                                 'program':programs\n",
    "                                 })"
   ]
  },
  {
   "cell_type": "code",
   "execution_count": 12,
   "metadata": {},
   "outputs": [],
   "source": [
    "dist_piano = [get_distance(distance='SPS', root1=0, root2=r.root,\n",
    "                         chord_type1=ChordType.MAJOR, chord_type2=ChordType.MINOR,\n",
    "                         program1=0, program2=r.program)\n",
    "            for idx_r, r in sps_programs_toC.iterrows()]\n",
    "sps_programs_toC['Piano'] = dist_piano"
   ]
  },
  {
   "cell_type": "code",
   "execution_count": 13,
   "metadata": {},
   "outputs": [],
   "source": [
    "dist_guitare = [get_distance(distance='SPS', root1=0, root2=r.root,\n",
    "                         chord_type1=ChordType.MAJOR, chord_type2=ChordType.MINOR,\n",
    "                         program1=24, program2=r.program)\n",
    "            for idx_r, r in sps_programs_toC.iterrows()]\n",
    "sps_programs_toC['Guitare'] = dist_guitare"
   ]
  },
  {
   "cell_type": "code",
   "execution_count": 14,
   "metadata": {},
   "outputs": [],
   "source": [
    "dist_violin = [get_distance(distance='SPS', root1=0, root2=r.root,\n",
    "                         chord_type1=ChordType.MAJOR, chord_type2=ChordType.MINOR,\n",
    "                         program1=40, program2=r.program)\n",
    "            for idx_r, r in sps_programs_toC.iterrows()]\n",
    "sps_programs_toC['Violin'] = dist_violin"
   ]
  },
  {
   "cell_type": "code",
   "execution_count": 15,
   "metadata": {},
   "outputs": [],
   "source": [
    "dist_trumpet = [get_distance(distance='SPS', root1=0, root2=r.root,\n",
    "                         chord_type1=ChordType.MAJOR, chord_type2=ChordType.MINOR,\n",
    "                         program1=56, program2=r.program)\n",
    "            for idx_r, r in sps_programs_toC.iterrows()]\n",
    "sps_programs_toC['Trumpet'] = dist_trumpet"
   ]
  },
  {
   "cell_type": "code",
   "execution_count": 16,
   "metadata": {},
   "outputs": [],
   "source": [
    "sps_programs_toC.to_csv('../Data/sps_programs_toC.csv', index=False)"
   ]
  },
  {
   "cell_type": "markdown",
   "metadata": {},
   "source": [
    "___\n",
    "## Transform comparison for SPS\n",
    "\n",
    "Creation of csv file sps_transform_toC.csv"
   ]
  },
  {
   "cell_type": "code",
   "execution_count": 17,
   "metadata": {},
   "outputs": [
    {
     "name": "stderr",
     "output_type": "stream",
     "text": [
      "/opt/anaconda3/envs/dcml/lib/python3.8/site-packages/librosa/core/spectrum.py:222: UserWarning: n_fft=1024 is too small for input signal of length=690\n",
      "  warnings.warn(\n",
      "/opt/anaconda3/envs/dcml/lib/python3.8/site-packages/librosa/core/spectrum.py:222: UserWarning: n_fft=1024 is too small for input signal of length=345\n",
      "  warnings.warn(\n"
     ]
    }
   ],
   "source": [
    "roots = [i for k in list(np.arange(0,12)) for i in [k]]\n",
    "sps_transform_toC = pd.DataFrame({'root':roots})\n",
    "\n",
    "dist_stft = []\n",
    "dist_stft_filtered = []\n",
    "dist_stft_peak = []\n",
    "dist_cqt = []\n",
    "dist_vqt = []\n",
    "dist_mel = []\n",
    "\n",
    "for idx_r, r in sps_transform_toC.iterrows() :\n",
    "    dist_stft.append(get_distance(distance='SPS', root1=0, root2=r.root,\n",
    "                         chord_type1=ChordType.MAJOR, chord_type2=ChordType.MINOR,\n",
    "                         transform='stft'))\n",
    "    \n",
    "    dist_stft_filtered.append(get_distance(distance='SPS', root1=0, root2=r.root,\n",
    "                         chord_type1=ChordType.MAJOR, chord_type2=ChordType.MINOR,\n",
    "                         transform='stft', noise_filtering=True))\n",
    "    \n",
    "    dist_stft_peak.append(get_distance(distance='SPS', root1=0, root2=r.root,\n",
    "                         chord_type1=ChordType.MAJOR, chord_type2=ChordType.MINOR,\n",
    "                         transform='stft', peak_picking=True))\n",
    "    \n",
    "    dist_cqt.append(get_distance(distance='SPS', root1=0, root2=r.root,\n",
    "                         chord_type1=ChordType.MAJOR, chord_type2=ChordType.MINOR,\n",
    "                         transform='cqt'))\n",
    "    \n",
    "    dist_vqt.append(get_distance(distance='SPS', root1=0, root2=r.root,\n",
    "                         chord_type1=ChordType.MAJOR, chord_type2=ChordType.MINOR,\n",
    "                         transform='vqt'))\n",
    "    \n",
    "    dist_mel.append(get_distance(distance='SPS', root1=0, root2=r.root,\n",
    "                         chord_type1=ChordType.MAJOR, chord_type2=ChordType.MINOR,\n",
    "                         transform='mel'))\n",
    "    \n",
    "sps_transform_toC['stft'] = dist_stft\n",
    "sps_transform_toC['stft filtered'] = dist_stft_filtered\n",
    "sps_transform_toC['stft peak'] = dist_stft_peak\n",
    "sps_transform_toC['cqt'] = dist_cqt\n",
    "sps_transform_toC['vqt'] = dist_vqt\n",
    "sps_transform_toC['mel'] = dist_mel"
   ]
  },
  {
   "cell_type": "code",
   "execution_count": 18,
   "metadata": {},
   "outputs": [],
   "source": [
    "sps_transform_toC.to_csv('../Data/sps_transform_toC.csv', index=False)"
   ]
  },
  {
   "cell_type": "markdown",
   "metadata": {},
   "source": [
    "___\n",
    "## Weight comparison for VL\n",
    "\n",
    "Creation of csv file vl_weighted_toC.csv"
   ]
  },
  {
   "cell_type": "code",
   "execution_count": 19,
   "metadata": {},
   "outputs": [],
   "source": [
    "roots = [i for k in list(np.arange(0,12)) for i in [k]] * 3\n",
    "inversions = [i for k in list(np.arange(3)) for i in [k] * 12]\n",
    "\n",
    "vl_weighted_toC = pd.DataFrame({'root':roots,\n",
    "                             'inversion':inversions\n",
    "                             })\n",
    "\n",
    "dist_w1 = []\n",
    "dist_w2 = []\n",
    "dist_w3 = []\n",
    "\n",
    "for idx_r, r in vl_weighted_toC.iterrows() :\n",
    "    dist_w1.append(get_distance(distance='voice leading', root1=0, root2=r.root,\n",
    "                                chord_type1=ChordType.MAJOR, chord_type2=ChordType.MINOR,\n",
    "                                inversion1=0, inversion2=r.inversion,\n",
    "                                bass_weight=1))\n",
    "    \n",
    "    dist_w2.append(get_distance(distance='voice leading', root1=0, root2=r.root,\n",
    "                                chord_type1=ChordType.MAJOR, chord_type2=ChordType.MINOR,\n",
    "                                inversion1=0, inversion2=r.inversion,\n",
    "                                bass_weight=2))\n",
    "    \n",
    "    dist_w3.append(get_distance(distance='voice leading', root1=0, root2=r.root,\n",
    "                                chord_type1=ChordType.MAJOR, chord_type2=ChordType.MINOR,\n",
    "                                inversion1=0, inversion2=r.inversion,\n",
    "                                bass_weight=3))\n",
    "    \n",
    "vl_weighted_toC['w1'] = dist_w1\n",
    "vl_weighted_toC['w2'] = dist_w2\n",
    "vl_weighted_toC['w3'] = dist_w3"
   ]
  },
  {
   "cell_type": "code",
   "execution_count": 20,
   "metadata": {},
   "outputs": [],
   "source": [
    "vl_weighted_toC.to_csv('../Data/vl_weighted_toC.csv', index=False)"
   ]
  },
  {
   "cell_type": "markdown",
   "metadata": {},
   "source": [
    "___\n",
    "## Weight comparison for TbT\n",
    "\n",
    "Creation of csv file tbt_weighted_toC.csv"
   ]
  },
  {
   "cell_type": "code",
   "execution_count": 21,
   "metadata": {},
   "outputs": [],
   "source": [
    "roots = [i for k in list(np.arange(0,12)) for i in [k]] * 3\n",
    "inversions = [i for k in list(np.arange(3)) for i in [k] * 12]\n",
    "\n",
    "tbt_weighted_toC = pd.DataFrame({'root':roots,\n",
    "                                'inversion':inversions\n",
    "                                })\n",
    "dist_wb1_r1 = []\n",
    "dist_wb2_r1 = []\n",
    "dist_wb3_r1 = []\n",
    "\n",
    "dist_wb1_r2 = []\n",
    "dist_wb2_r2 = []\n",
    "dist_wb3_r2 = []\n",
    "\n",
    "dist_wb1_r3 = []\n",
    "dist_wb2_r3 = []\n",
    "dist_wb3_r3 = []\n",
    "\n",
    "for idx_r, r in tbt_weighted_toC.iterrows() :\n",
    "    dist_wb1_r1.append(get_distance(distance='tone by tone', root1=0, root2=r.root,\n",
    "                                chord_type1=ChordType.MAJOR, chord_type2=ChordType.MINOR,\n",
    "                                inversion1=0, inversion2=r.inversion,\n",
    "                                bass_weight=1))\n",
    "    \n",
    "    dist_wb2_r1.append(get_distance(distance='tone by tone', root1=0, root2=r.root,\n",
    "                                chord_type1=ChordType.MAJOR, chord_type2=ChordType.MINOR,\n",
    "                                inversion1=0, inversion2=r.inversion,\n",
    "                                bass_weight=2))\n",
    "    \n",
    "    dist_wb3_r1.append(get_distance(distance='tone by tone', root1=0, root2=r.root,\n",
    "                                chord_type1=ChordType.MAJOR, chord_type2=ChordType.MINOR,\n",
    "                                inversion1=0, inversion2=r.inversion,\n",
    "                                bass_weight=3))\n",
    "                                 \n",
    "    ##\n",
    "    \n",
    "    dist_wb1_r2.append(get_distance(distance='tone by tone', root1=0, root2=r.root,\n",
    "                                chord_type1=ChordType.MAJOR, chord_type2=ChordType.MINOR,\n",
    "                                inversion1=0, inversion2=r.inversion,\n",
    "                                bass_weight=1, root_weight=2))\n",
    "    \n",
    "    dist_wb2_r2.append(get_distance(distance='tone by tone', root1=0, root2=r.root,\n",
    "                                chord_type1=ChordType.MAJOR, chord_type2=ChordType.MINOR,\n",
    "                                inversion1=0, inversion2=r.inversion,\n",
    "                                bass_weight=2, root_weight=2))\n",
    "    \n",
    "    dist_wb3_r2.append(get_distance(distance='tone by tone', root1=0, root2=r.root,\n",
    "                                chord_type1=ChordType.MAJOR, chord_type2=ChordType.MINOR,\n",
    "                                inversion1=0, inversion2=r.inversion,\n",
    "                                bass_weight=3, root_weight=2))\n",
    "                                 \n",
    "    ##\n",
    "                                 \n",
    "    dist_wb1_r3.append(get_distance(distance='tone by tone', root1=0, root2=r.root,\n",
    "                                chord_type1=ChordType.MAJOR, chord_type2=ChordType.MINOR,\n",
    "                                inversion1=0, inversion2=r.inversion,\n",
    "                                bass_weight=1, root_weight=3))\n",
    "    \n",
    "    dist_wb2_r3.append(get_distance(distance='tone by tone', root1=0, root2=r.root,\n",
    "                                chord_type1=ChordType.MAJOR, chord_type2=ChordType.MINOR,\n",
    "                                inversion1=0, inversion2=r.inversion,\n",
    "                                bass_weight=2, root_weight=3))\n",
    "    \n",
    "    dist_wb3_r3.append(get_distance(distance='tone by tone', root1=0, root2=r.root,\n",
    "                                chord_type1=ChordType.MAJOR, chord_type2=ChordType.MINOR,\n",
    "                                inversion1=0, inversion2=r.inversion,\n",
    "                                bass_weight=3, root_weight=3))                             \n",
    "    \n",
    "tbt_weighted_toC['bass w1, root w1'] = dist_wb1_r1\n",
    "tbt_weighted_toC['bass w2, root w1'] = dist_wb2_r1\n",
    "tbt_weighted_toC['bass w3, root w1'] = dist_wb3_r1\n",
    "\n",
    "tbt_weighted_toC['bass w1, root w2'] = dist_wb1_r2\n",
    "tbt_weighted_toC['bass w2, root w2'] = dist_wb2_r2\n",
    "tbt_weighted_toC['bass w3, root w2'] = dist_wb3_r2\n",
    "\n",
    "tbt_weighted_toC['bass w1, root w3'] = dist_wb1_r3\n",
    "tbt_weighted_toC['bass w2, root w3'] = dist_wb2_r3\n",
    "tbt_weighted_toC['bass w3, root w3'] = dist_wb3_r3"
   ]
  },
  {
   "cell_type": "code",
   "execution_count": 22,
   "metadata": {},
   "outputs": [],
   "source": [
    "tbt_weighted_toC.to_csv('../Data/tbt_weighted_toC.csv', index=False)"
   ]
  },
  {
   "cell_type": "markdown",
   "metadata": {},
   "source": [
    "___\n",
    "## Corpus analysis\n",
    "\n",
    "The coprus used is in the folder ../Data/output_sps_kse-100\n",
    "\n",
    "Creation of csv file corpus.csv"
   ]
  },
  {
   "cell_type": "code",
   "execution_count": 30,
   "metadata": {},
   "outputs": [],
   "source": [
    "path_list = []\n",
    "avg_bin_acc_list = []\n",
    "avg_root_acc_list = []\n",
    "avg_triad_acc_list = []\n",
    "avg_7th_acc_list = []\n",
    "avg_inv_acc_list = []\n",
    "avg_sps_list = []\n",
    "avg_tbt_list = []\n",
    "avg_vl_list = []\n",
    "\n",
    "for df_path in glob(\"../Data/output_sps_kse-100/**/*_results.tsv\", recursive=True):\n",
    "    results_df = pd.read_csv(df_path, sep='\\t', index_col=0, converters={'duration': Fraction})\n",
    "        \n",
    "    results_df['gt_chord_type'] = results_df['gt_chord_type'].apply(lambda r : ChordType[r.split(\".\")[1]])\n",
    "    results_df['est_chord_type'] = results_df['est_chord_type'].apply(lambda r : ChordType[r.split(\".\")[1]])\n",
    "    \n",
    "    results_df['sps_distance'] = results_df.apply(lambda r : get_distance(distance='SPS',\n",
    "                                                                          root1=r.gt_chord_root,\n",
    "                                                                          root2=r.est_chord_root,\n",
    "                                                                          chord_type1=r.gt_chord_type,\n",
    "                                                                          chord_type2=r.est_chord_type,\n",
    "                                                                          inversion1=r.gt_chord_inv,\n",
    "                                                                          inversion2=r.est_chord_inv\n",
    "                                                                          ), axis=1)\n",
    "    \n",
    "    results_df['tbt_distance'] = results_df.apply(lambda r : get_distance(distance='tone by tone',\n",
    "                                                                          root1=r.gt_chord_root,\n",
    "                                                                          root2=r.est_chord_root,\n",
    "                                                                          chord_type1=r.gt_chord_type,\n",
    "                                                                          chord_type2=r.est_chord_type,\n",
    "                                                                          inversion1=r.gt_chord_inv,\n",
    "                                                                          inversion2=r.est_chord_inv,\n",
    "                                                                          bass_weight=3,\n",
    "                                                                          root_weight=3\n",
    "                                                                          ), axis=1)\n",
    "    \n",
    "    results_df['vl_distance'] = results_df.apply(lambda r : get_distance(distance='voice leading',\n",
    "                                                                          root1=r.gt_chord_root,\n",
    "                                                                          root2=r.est_chord_root,\n",
    "                                                                          chord_type1=r.gt_chord_type,\n",
    "                                                                          chord_type2=r.est_chord_type,\n",
    "                                                                          inversion1=r.gt_chord_inv,\n",
    "                                                                          inversion2=r.est_chord_inv,\n",
    "                                                                          bass_weight=3\n",
    "                                                                          ), axis=1)\n",
    "    \n",
    "    results_df['vl_distance'] = results_df['vl_distance'].apply(lambda r :\n",
    "                                                                r/max(results_df['vl_distance']))\n",
    "    \n",
    "    path_list.append(df_path)\n",
    "    avg_bin_acc_list.append(float(np.average(results_df['full_correct'], weights=results_df['duration'])))\n",
    "    avg_root_acc_list.append(float(np.average(results_df['root_correct'], weights=results_df['duration'])))\n",
    "    avg_triad_acc_list.append(float(np.average(results_df['triad_correct'], weights=results_df['duration'])))\n",
    "    avg_7th_acc_list.append(float(np.average(results_df['7th_correct'], weights=results_df['duration'])))\n",
    "    avg_inv_acc_list.append(float(np.average(results_df['inv_correct'], weights=results_df['duration'])))\n",
    "    avg_sps_list.append(float(np.average(results_df['sps_distance'], weights=results_df['duration'])))\n",
    "    avg_tbt_list.append(float(np.average(results_df['tbt_distance'], weights=results_df['duration'])))\n",
    "    avg_vl_list.append(float(np.average(results_df['vl_distance'], weights=results_df['duration'])))\n",
    "    \n",
    "Chord_symbol_recall_df = pd.DataFrame({'path': path_list,\n",
    "                                       'binary_accuracy' : avg_bin_acc_list,\n",
    "                                       'root_accuracy' : avg_root_acc_list,\n",
    "                                       'triad_accuracy' : avg_triad_acc_list,\n",
    "                                       '7th_accuracy' : avg_7th_acc_list,\n",
    "                                       'inversion_accuracy' : avg_inv_acc_list,\n",
    "                                       'average_sps' : avg_sps_list,\n",
    "                                       'average_tbt' : avg_tbt_list,\n",
    "                                       'average_vl' : avg_vl_list\n",
    "                                       })\n",
    "\n",
    "Chord_symbol_recall_df['name'] = Chord_symbol_recall_df.path.apply(lambda r :\n",
    "                                    r[len('../Data/output_sps_kse-100/'):len(r)-len('_results.tsv')])\n",
    "\n",
    "Chord_symbol_recall_df.to_csv('../Data/corpus.csv', index=False)"
   ]
  },
  {
   "cell_type": "markdown",
   "metadata": {},
   "source": [
    "___\n",
    "## Program analysis\n",
    "\n",
    "The coprus used is in the folder ../Data/output_sps_kse-100\n",
    "\n",
    "Creation of csv file programs_corpus_df.csv"
   ]
  },
  {
   "cell_type": "code",
   "execution_count": null,
   "metadata": {},
   "outputs": [],
   "source": [
    "program_num_list = (0, 11, 19, 24, 40, 43, 53, 56, 66, 71, 73)\n",
    "program_name_list = ('piano',\n",
    "                    'vibraphone',\n",
    "                    'organe',\n",
    "                    'guitare',\n",
    "                    'violin',\n",
    "                    'contrabass',\n",
    "                    'voice',\n",
    "                    'trumpet',\n",
    "                    'saxophone',\n",
    "                    'clarinette',\n",
    "                    'flute')\n",
    "\n",
    "programs_corpus_df = pd.DataFrame()\n",
    "\n",
    "for program, num in zip(program_name_list, program_num_list):\n",
    "    \n",
    "    path_list = []\n",
    "    avg_bin_acc_list = []\n",
    "    avg_root_acc_list = []\n",
    "    avg_triad_acc_list = []\n",
    "    avg_7th_acc_list = []\n",
    "    avg_inv_acc_list = []\n",
    "    avg_sps_list = []\n",
    "    \n",
    "    for df_path in glob(\"../Data/output_sps_kse-100/**/*_results.tsv\", recursive=True):\n",
    "        \n",
    "        results_df = pd.read_csv(df_path, sep='\\t', index_col=0, converters={'duration': Fraction})\n",
    "\n",
    "        results_df['gt_chord_type'] = results_df['gt_chord_type'].apply(lambda r : ChordType[r.split(\".\")[1]])\n",
    "        results_df['est_chord_type'] = results_df['est_chord_type'].apply(lambda r : ChordType[r.split(\".\")[1]])\n",
    "\n",
    "        results_df['sps_distance'] = results_df.apply(lambda r : get_distance(distance='SPS',\n",
    "                                                                              root1=r.gt_chord_root,\n",
    "                                                                              root2=r.est_chord_root,\n",
    "                                                                              chord_type1=r.gt_chord_type,\n",
    "                                                                              chord_type2=r.est_chord_type,\n",
    "                                                                              inversion1=r.gt_chord_inv,\n",
    "                                                                              inversion2=r.est_chord_inv,\n",
    "                                                                              program1=num,\n",
    "                                                                              program2=num\n",
    "                                                                              ), axis=1)\n",
    "\n",
    "        path_list.append(df_path)\n",
    "        avg_bin_acc_list.append(float(np.average(results_df['full_correct'], weights=results_df['duration'])))\n",
    "        avg_root_acc_list.append(float(np.average(results_df['root_correct'], weights=results_df['duration'])))\n",
    "        avg_triad_acc_list.append(float(np.average(results_df['triad_correct'], weights=results_df['duration'])))\n",
    "        avg_7th_acc_list.append(float(np.average(results_df['7th_correct'], weights=results_df['duration'])))\n",
    "        avg_inv_acc_list.append(float(np.average(results_df['inv_correct'], weights=results_df['duration'])))\n",
    "        avg_sps_list.append(float(np.average(results_df['sps_distance'], weights=results_df['duration'])))\n",
    "\n",
    "    Chord_symbol_recall_df = pd.DataFrame({'path': path_list,\n",
    "                                           'binary_accuracy' : avg_bin_acc_list,\n",
    "                                           'root_accuracy' : avg_root_acc_list,\n",
    "                                           'triad_accuracy' : avg_triad_acc_list,\n",
    "                                           '7th_accuracy' : avg_7th_acc_list,\n",
    "                                           'inversion_accuracy' : avg_inv_acc_list,\n",
    "                                           'average_sps' : avg_sps_list,\n",
    "                                           'program' : [program]*len(path_list)\n",
    "                                           })\n",
    "\n",
    "    Chord_symbol_recall_df['name'] = Chord_symbol_recall_df.path.apply(lambda r :\n",
    "                                        r[len('./output_sps_kse-100/'):len(r)-len('_results.tsv')])\n",
    "    \n",
    "    programs_corpus_df=pd.concat([programs_corpus_df, Chord_symbol_recall_df], ignore_index=True)\n",
    "\n",
    "programs_corpus_df.to_csv('../Data/programs_corpus_df.csv', index=False)"
   ]
  }
 ],
 "metadata": {
  "kernelspec": {
   "display_name": "Python 3",
   "language": "python",
   "name": "python3"
  },
  "language_info": {
   "codemirror_mode": {
    "name": "ipython",
    "version": 3
   },
   "file_extension": ".py",
   "mimetype": "text/x-python",
   "name": "python",
   "nbconvert_exporter": "python",
   "pygments_lexer": "ipython3",
   "version": "3.8.3"
  }
 },
 "nbformat": 4,
 "nbformat_minor": 4
}
