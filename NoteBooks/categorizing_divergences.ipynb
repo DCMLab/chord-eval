{
 "cells": [
  {
   "cell_type": "code",
   "execution_count": null,
   "id": "95d1ab6c",
   "metadata": {},
   "outputs": [],
   "source": [
    "import sys, os\n",
    "from fractions import Fraction\n",
    "import pandas as pd\n",
    "import matplotlib.pyplot as plt\n",
    "import seaborn as sns\n",
    "from ms3 import transform, name2fifths, fifths2pc\n",
    "sys.path.append(os.path.abspath('../python_scripts/'))\n",
    "from data_types import ChordType, PitchType\n",
    "from utils import get_chord_pitches\n",
    "from constants import TRIAD_REDUCTION\n",
    "pd.set_option('display.max_rows', 1000)\n",
    "pd.set_option('display.max_columns', 500)\n",
    "\n",
    "def vc(S):\n",
    "    \"\"\"Value counts & normalized column\"\"\"\n",
    "    vc = S.value_counts(dropna=False)\n",
    "    return pd.concat([vc, vc / vc.sum()], axis=1, keys=['counts', 'fraction'])"
   ]
  },
  {
   "cell_type": "code",
   "execution_count": null,
   "id": "4b146e33",
   "metadata": {},
   "outputs": [],
   "source": [
    "data = '../Data/Beethoven_sonata_progression/'\n",
    "csv_files = os.listdir(data)\n",
    "fnames = [os.path.splitext(f)[0] for f in csv_files]\n",
    "csv_paths = [os.path.join(data, f) for f in csv_files]\n",
    "dtypes = dict(binary=bool, vl=int)\n",
    "to_frac = lambda f: Fraction(f).limit_denominator(8)\n",
    "converters = dict(tbt=to_frac)\n",
    "D = pd.concat([pd.read_csv(p, dtype=dtypes, converters=converters) for p in csv_paths], keys=fnames).sort_index()\n",
    "D.head()"
   ]
  },
  {
   "cell_type": "markdown",
   "id": "12d92da0",
   "metadata": {},
   "source": [
    "### Durations or counts?\n",
    "Set `delete_repetitions` to False to have the notebook account for the durations of divergences.\n",
    "\n",
    "Set it to True if you only care about their counts. In this case you will see the new proportion between identical and diverging labels."
   ]
  },
  {
   "cell_type": "code",
   "execution_count": null,
   "id": "cb0d582b",
   "metadata": {},
   "outputs": [],
   "source": [
    "delete_repetitions = True\n",
    "\n",
    "if delete_repetitions:\n",
    "    changed1 = D.annotation1_chord != D.annotation1_chord.shift()\n",
    "    changed2 = D.annotation2_chord != D.annotation2_chord.shift()\n",
    "    D = D[changed1 | changed2]\n",
    "    print(D.binary.value_counts(normalize=True))"
   ]
  },
  {
   "cell_type": "markdown",
   "id": "bbc7ca97",
   "metadata": {},
   "source": [
    "### Data Expansion"
   ]
  },
  {
   "cell_type": "code",
   "execution_count": null,
   "id": "5f457dfe",
   "metadata": {},
   "outputs": [],
   "source": [
    "df = D[D.binary] # select only diverging\n",
    "regex = r\"^([A-G](b*|#*)?)_(.*)_inv(\\d)$\"\n",
    "def is_triad(type_str):\n",
    "    val = ChordType[type_str]\n",
    "    return val.value < 4\n",
    "df = D[D.binary]\n",
    "for n, col in ((1, 'annotation1_chord'), (2, 'annotation2_chord')):\n",
    "    renaming = {0: f\"root{n}\", 2: f\"type{n}\", 3: f\"inv{n}\", 'triad': f\"triad{n}\", 'tpc': f\"tpc{n}\", 'pc': f\"pc{n}\"}\n",
    "    expanded = df[col].str.extract(regex).loc[:, [0, 2, 3]]\n",
    "    expanded['triad'] = transform(expanded[2], is_triad)\n",
    "    expanded['tpc'] = transform(expanded[0], name2fifths)\n",
    "    expanded['pc'] = transform(expanded.tpc, fifths2pc)\n",
    "    df = pd.concat([df, expanded.rename(columns=renaming)], axis=1)"
   ]
  },
  {
   "cell_type": "code",
   "execution_count": null,
   "id": "bdb76e7d",
   "metadata": {},
   "outputs": [],
   "source": [
    "def tbt_relaxed(set_a, set_b, as_distance=False):\n",
    "    \"\"\"Tone-by-tone but normalizing by 3 if a triad is involved.\n",
    "    Returns 1 if a triad is contained in a tetrad.\n",
    "    \"\"\"\n",
    "    n = min(len(set_a), len(set_b))\n",
    "    overlap = len(set_a.intersection(set_b)) / n\n",
    "    if as_distance:\n",
    "        overlap = 1 - overlap\n",
    "    return Fraction(overlap).limit_denominator(n)\n",
    "    \n",
    "def tbt_relaxed_cacheable(pc1, pc2, type1, type2, as_distance=False):\n",
    "    a = set(get_chord_pitches(pc1, ChordType[type1], PitchType.MIDI) % 12)\n",
    "    b = set(get_chord_pitches(pc2, ChordType[type2], PitchType.MIDI) % 12)\n",
    "    return tbt_relaxed(a, b, as_distance=as_distance)\n",
    "\n",
    "overlap = transform(df, tbt_relaxed_cacheable, ['pc1', 'pc2', 'type1', 'type2']).rename('overlap')\n",
    "df = pd.concat([df,\n",
    "                (df.tpc1-df.tpc2).abs().rename('tpc_iv'), \n",
    "                (df.pc1 - df.pc2).abs().rename('pc_iv'),\n",
    "                overlap,\n",
    "               ], axis=1)\n",
    "df.pc_iv = df.pc_iv.where(df.pc_iv <= 6, 12 - df.pc_iv)\n",
    "df.head()"
   ]
  },
  {
   "cell_type": "markdown",
   "id": "399687e8",
   "metadata": {},
   "source": [
    "### SPS by shared tones ('relaxed tbt')\n",
    "Maximum overlap is the minimum number of tones between the two chords, so if a triad's notes are all included in a tetrad, the overlap is 1."
   ]
  },
  {
   "cell_type": "code",
   "execution_count": null,
   "id": "f0122bde-db92-4f98-9aa8-fad3cbd2f28f",
   "metadata": {},
   "outputs": [],
   "source": [
    "sns.set(rc={\"figure.figsize\":(16, 9)})\n",
    "sns.violinplot(data=df, x='overlap', y='sps', order=sorted(df.overlap.unique(), reverse=True), cut=0)\n",
    "plt.xticks(rotation=45)\n",
    "plt.show()"
   ]
  },
  {
   "cell_type": "markdown",
   "id": "a29eaaa7",
   "metadata": {},
   "source": [
    "### Categorize divergences"
   ]
  },
  {
   "cell_type": "markdown",
   "id": "4f5268db",
   "metadata": {},
   "source": [
    "**Create boolean masks**"
   ]
  },
  {
   "cell_type": "code",
   "execution_count": null,
   "id": "f27749ba",
   "metadata": {},
   "outputs": [],
   "source": [
    "def reduce_tetrad(type_str):\n",
    "    val = ChordType[type_str]\n",
    "    return TRIAD_REDUCTION[val]\n",
    "\n",
    "same_type_reduced = transform(df.type1, reduce_tetrad) == transform(df.type2, reduce_tetrad)\n",
    "same_root = df.pc_iv == 0\n",
    "same_type = df.type1 == df.type2\n",
    "same_inversion = df.inv1 == df.inv2\n",
    "diverging_inv = same_root & same_type\n",
    "diverging_type = same_root & same_inversion"
   ]
  },
  {
   "cell_type": "code",
   "execution_count": null,
   "id": "4441fccc",
   "metadata": {},
   "outputs": [],
   "source": [
    "ctgs = pd.Series(index=df.index, dtype='string', name='divergence')\n",
    "triad_tetrad = same_root & same_type_reduced & (df.triad1 != df.triad2) # the latter part was missing in the first version of the plots. It ensures that only one is a triad\n",
    "triad_tetrad_root = overlap == 1\n",
    "both_triads = df.triad1 & df.triad2\n",
    "selectors = (\n",
    "    ('inversion', diverging_inv),\n",
    "    ('triad-tetrad', triad_tetrad & same_inversion),\n",
    "    ('triad-tetrad & inversion', triad_tetrad & ~same_inversion),\n",
    "    ('type', diverging_type),\n",
    "    ('type & inversion', same_root),\n",
    "    ('triad-tetrad & root', triad_tetrad_root),\n",
    "    ('no_overlap', overlap == 0),\n",
    "    ('tetrads_sharing_3', overlap == 3/4),\n",
    "    ('tetrads_sharing_2', overlap == 1/2),\n",
    "    ('tetrads_sharing_1', overlap== 1/4),\n",
    "    ('triads_sharing_2',  (overlap == Fraction(2,3)) & both_triads),\n",
    "    ('triad_tetrad_sharing_2', (overlap == Fraction(2,3)) & ~both_triads),\n",
    "    ('triads_sharing_1', (overlap == Fraction(1,3)) & both_triads),\n",
    "    ('triad_tetrad_sharing_1', (overlap == Fraction(1,3)) & ~both_triads),\n",
    "    )\n",
    "for c, sel in selectors:\n",
    "    ctgs = ctgs.where(ctgs.notna(), sel.map({True: c, False: pd.NA}))\n",
    "## Now, fill in the uncategorized with the fraction of diverging notes\n",
    "tbt_rel = transform(df, tbt_relaxed_cacheable, ['pc1', 'pc2', 'type1', 'type2'], as_distance=True)\n",
    "ctgs = ctgs.where(ctgs.notna(), tbt_rel.astype(str))\n",
    "vc(ctgs)"
   ]
  },
  {
   "cell_type": "markdown",
   "id": "2788e250",
   "metadata": {},
   "source": [
    "#### SPS distributions for the different categories"
   ]
  },
  {
   "cell_type": "code",
   "execution_count": null,
   "id": "042e9307",
   "metadata": {},
   "outputs": [],
   "source": [
    "order_by_median = df.groupby(ctgs).sps.median().sort_values().index.to_list()\n",
    "labels = [f\"{l} ({ctgs.value_counts(normalize=True)[l]:.1%})\" for l in order_by_median]"
   ]
  },
  {
   "cell_type": "code",
   "execution_count": null,
   "id": "24885252",
   "metadata": {},
   "outputs": [],
   "source": [
    "sns.set(rc={\"figure.figsize\":(16, 9)})\n",
    "ax = sns.violinplot(data=df, x=ctgs, y='sps', order=order_by_median, cut=0)\n",
    "ax.set_xticklabels(labels)\n",
    "plt.xticks(rotation=35)\n",
    "plt.ylabel('sps including changes')\n",
    "plt.savefig('../figures/categories_sps_with_changes.png', bbox_inches='tight')\n",
    "plt.show()"
   ]
  },
  {
   "cell_type": "code",
   "execution_count": null,
   "id": "f568ac4d",
   "metadata": {},
   "outputs": [],
   "source": [
    "ax = sns.boxplot(data=df, x=ctgs, y='tbt', order=order_by_median)\n",
    "ax = sns.stripplot(data=df, x=ctgs, y='tbt', order=order_by_median, marker=\"o\", alpha=0.3, color=\"black\")\n",
    "ax.set_xticklabels(labels)\n",
    "plt.xticks(rotation=35)\n",
    "yticks = sorted(df.tbt.unique())\n",
    "plt.yticks(df.tbt.astype(float).unique(), df.tbt.unique())\n",
    "plt.ylabel('tbt including changes')\n",
    "plt.savefig('../figures/categories_tbt_with_changes.png', bbox_inches='tight')\n",
    "plt.show()"
   ]
  },
  {
   "cell_type": "code",
   "execution_count": null,
   "id": "15c989cb",
   "metadata": {},
   "outputs": [],
   "source": [
    "ax = sns.stripplot(data=df, x=ctgs, y='vl', order=order_by_median, marker=\"o\", alpha=0.3, color=\"black\")\n",
    "ax = sns.boxplot(data=df, x=ctgs, y='vl', order=order_by_median)\n",
    "ax.set_xticklabels(labels)\n",
    "plt.xticks(rotation=35)\n",
    "plt.ylabel('vl including changes')\n",
    "plt.savefig('../figures/categories_vl_with_changes.png', bbox_inches='tight')\n",
    "plt.show()"
   ]
  },
  {
   "cell_type": "markdown",
   "id": "595ac554-d055-4c83-8e29-a0446461cb44",
   "metadata": {},
   "source": [
    "# Combining metrics for more fine-grained error categories\n",
    "## Triad-tetrad SPS divided by VL values"
   ]
  },
  {
   "cell_type": "code",
   "execution_count": null,
   "id": "8caea4f4-60d3-4f2f-b115-b82abaaa3aca",
   "metadata": {},
   "outputs": [],
   "source": [
    "tri_tet = df[ctgs == 'triad-tetrad'].copy()\n",
    "tri_tet.groupby('vl').sps.describe()"
   ]
  },
  {
   "cell_type": "code",
   "execution_count": null,
   "id": "b9f081d5-6546-40b7-8826-41333cd0c9bd",
   "metadata": {},
   "outputs": [],
   "source": [
    "ax = sns.boxplot(data=tri_tet, x='vl', y='sps')\n",
    "ax = sns.stripplot(data=tri_tet, x='vl', y='sps', marker=\"o\", alpha=0.3, color=\"black\")\n",
    "ax.set_xticklabels([f\"{i} (n = {n})\" for i, n in tri_tet.groupby('vl').size().iteritems()])\n",
    "plt.show()"
   ]
  },
  {
   "cell_type": "code",
   "execution_count": null,
   "id": "369d1600-7cc8-4b7f-bc71-50d0270e5ab5",
   "metadata": {},
   "outputs": [],
   "source": [
    "comparisons = ('tpc', 'pc', 'type', 'inv', 'triad') \n",
    "tri_tet_groups = {compare: tri_tet[[f\"{compare}1\", f\"{compare}2\"]].apply(lambda row: tuple(sorted(row)), axis=1) for compare in comparisons}"
   ]
  },
  {
   "cell_type": "markdown",
   "id": "c7770e02-b577-4269-a675-d9c96a8ab1d2",
   "metadata": {},
   "source": [
    "### Chord type combinations for the different VL values\n",
    "Chord combinations in this category share the same root, inversion, and reduced chord type."
   ]
  },
  {
   "cell_type": "code",
   "execution_count": null,
   "id": "4502655f-d9be-4e93-9996-512ce663bd9e",
   "metadata": {},
   "outputs": [],
   "source": [
    "tri_tet.groupby([tri_tet.vl, tri_tet_groups['type']]).size()"
   ]
  },
  {
   "cell_type": "markdown",
   "id": "7b94d184-2cc4-4b42-bfd1-87b2f446bd29",
   "metadata": {},
   "source": [
    "**The three different VL values seem to be dependent on the size of the 7th**"
   ]
  },
  {
   "cell_type": "code",
   "execution_count": null,
   "id": "04ea4c1d-f108-4d3f-ba68-9dc81c025ae5",
   "metadata": {},
   "outputs": [],
   "source": [
    "tri_tet.groupby([tri_tet.vl, tri_tet_groups['type'], tri_tet_groups['inv']]).sps.describe()"
   ]
  },
  {
   "cell_type": "code",
   "execution_count": null,
   "id": "4751de2b-b718-45e2-a20e-a5c29a8f3669",
   "metadata": {},
   "outputs": [],
   "source": [
    "tri_tet[(tri_tet.vl == 3) & (tri_tet_groups['tpc'] == (-1, -1))]"
   ]
  },
  {
   "cell_type": "markdown",
   "id": "f942a51a",
   "metadata": {
    "tags": []
   },
   "source": [
    "# Older code\n",
    "#### Checking outliers"
   ]
  },
  {
   "cell_type": "code",
   "execution_count": null,
   "id": "05305898",
   "metadata": {},
   "outputs": [],
   "source": [
    "df[ctgs == 'triads_sharing_1'].groupby('vl').sps.min()"
   ]
  },
  {
   "cell_type": "code",
   "execution_count": null,
   "id": "115e5d75",
   "metadata": {},
   "outputs": [],
   "source": [
    "df[(ctgs == 'triads_sharing_1') & (df.vl <= 3)]"
   ]
  },
  {
   "cell_type": "code",
   "execution_count": null,
   "id": "78678926",
   "metadata": {},
   "outputs": [],
   "source": [
    "df[ctgs == 'triads_sharing_1'].sort_values('sps')"
   ]
  },
  {
   "cell_type": "code",
   "execution_count": null,
   "id": "0d4bdf09",
   "metadata": {},
   "outputs": [],
   "source": [
    "def get_value_pair(row, col):\n",
    "    \"\"\"Return value pairs such that the first one belongs to the lower of both roots.\"\"\"\n",
    "    col1, col2 = f\"{col}1\", f\"{col}2\"\n",
    "    if (row.pc1 + row.pc_iv) % 12 != row.pc2:\n",
    "        return row[col2], row[col1]\n",
    "    return row[col1], row[col2]"
   ]
  },
  {
   "cell_type": "markdown",
   "id": "51cfd92d",
   "metadata": {},
   "source": [
    "### Inspect particular divergences\n",
    "#### Two seventh chords with different roots and 3 common tones\n",
    "For example, the first row, `1  (MAJ_MIN7, DIM7)  4` means: 4 instances of a dominant 7th chord and a diminished 7th chord with the root 1 semitone higher than the former."
   ]
  },
  {
   "cell_type": "code",
   "execution_count": null,
   "id": "99635f6b",
   "metadata": {},
   "outputs": [],
   "source": [
    "tetrads_sharing_3 = df[ctgs == 'tetrads_sharing_3']\n",
    "type_groups = tetrads_sharing_3.apply(get_value_pair, col='type', axis=1).rename('types')\n",
    "tetrads_sharing_3 = pd.concat([tetrads_sharing_3, type_groups], axis=1)\n",
    "tetrads_sharing_3.groupby(['pc_iv', 'types']).size()"
   ]
  },
  {
   "cell_type": "markdown",
   "id": "68d5e6db",
   "metadata": {},
   "source": [
    "#### Two triads with different roots and 2 common tones"
   ]
  },
  {
   "cell_type": "code",
   "execution_count": null,
   "id": "de561057",
   "metadata": {},
   "outputs": [],
   "source": [
    "triads_sharing_2 = df[ctgs == 'triads_sharing_2']\n",
    "# here, the order of types is always (lower_root, higher_root)\n",
    "type_groups = triads_sharing_2.apply(get_value_pair, col='type', axis=1).rename('types')\n",
    "triads_sharing_2 = pd.concat([triads_sharing_2, type_groups], axis=1)\n",
    "triads_sharing_2.groupby(['pc_iv', 'types']).size()"
   ]
  },
  {
   "cell_type": "code",
   "execution_count": null,
   "id": "aabfe7ed",
   "metadata": {},
   "outputs": [],
   "source": []
  }
 ],
 "metadata": {
  "interpreter": {
   "hash": "9c5f42a26e325216d3611861dbf42f5192720216e0a891700eab31d8978f6423"
  },
  "kernelspec": {
   "display_name": "eval",
   "language": "python",
   "name": "python3"
  },
  "language_info": {
   "codemirror_mode": {
    "name": "ipython",
    "version": 3
   },
   "file_extension": ".py",
   "mimetype": "text/x-python",
   "name": "python",
   "nbconvert_exporter": "python",
   "pygments_lexer": "ipython3",
   "version": "3.8.11"
  }
 },
 "nbformat": 4,
 "nbformat_minor": 5
}
