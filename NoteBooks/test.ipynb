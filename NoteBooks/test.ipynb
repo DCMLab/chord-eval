{
 "cells": [
  {
   "cell_type": "code",
   "execution_count": 1,
   "metadata": {},
   "outputs": [],
   "source": [
    "import sys\n",
    "sys.path.append('/home/xavier/Documents/dcml/python_scripts')\n",
    "\n",
    "from metric import get_distance\n",
    "from data_types import ChordType, PitchType\n",
    "from utils import get_chord_pitches\n",
    "from constants import TRIAD_REDUCTION\n",
    "from progression import get_progression, plot_comparison\n",
    "from fractions import Fraction\n",
    "\n",
    "\n",
    "import numpy as np\n",
    "import networkx as nx\n",
    "import pandas as pd"
   ]
  },
  {
   "cell_type": "code",
   "execution_count": 2,
   "metadata": {},
   "outputs": [],
   "source": [
    "def compare_notes(\n",
    "    note1: int,\n",
    "    note2: int\n",
    ") -> (int, int):\n",
    "    \"\"\"\n",
    "    Find the smallest interval between tow given midi notes by shifting them by \n",
    "    one or more octaves and return the shifted notes. --> rename : get normalized note, min(abs%12, abs%12-12)\n",
    "\n",
    "    Parameters\n",
    "    ----------\n",
    "    note1 : int\n",
    "        Midi number of the first note.\n",
    "    note2 : int\n",
    "        Midi number of the second note\n",
    "\n",
    "    Returns\n",
    "    -------\n",
    "    (int, int)\n",
    "        Midi numbers of the two shiftd notes.\n",
    "\n",
    "    \"\"\"\n",
    "    if note1 - note2 < 0 :\n",
    "        while np.abs(note1 - note2 + 12) <= np.abs(note1 - note2):\n",
    "            note1 += 12\n",
    "            \n",
    "    else :\n",
    "        while np.abs(note1 - note2 - 12) <= np.abs(note1 - note2):\n",
    "            note2 += 12\n",
    "    \n",
    "    return note1, note2"
   ]
  },
  {
   "cell_type": "code",
   "execution_count": 3,
   "metadata": {},
   "outputs": [],
   "source": [
    "def get_smallest_interval(\n",
    "    note1: int,\n",
    "    note2: int\n",
    ") -> int:\n",
    "    \"\"\"\n",
    "    Find the smallest interval between tow given midi notes by shifting them by \n",
    "    one or more octaves and return the shifted notes. --> rename : get normalized note, min(abs%12, abs%12-12)\n",
    "\n",
    "    Parameters\n",
    "    ----------\n",
    "    note1 : int\n",
    "        Midi number of the first note.\n",
    "    note2 : int\n",
    "        Midi number of the second note\n",
    "\n",
    "    Returns\n",
    "    -------\n",
    "    (int, int)\n",
    "        Midi numbers of the two shiftd notes.\n",
    "\n",
    "    \"\"\"\n",
    "    \n",
    "    diff = np.abs(note1-note2)%12\n",
    "    \n",
    "    return min(diff, 12-diff)"
   ]
  },
  {
   "cell_type": "code",
   "execution_count": 4,
   "metadata": {},
   "outputs": [
    {
     "data": {
      "text/plain": [
       "4"
      ]
     },
     "execution_count": 4,
     "metadata": {},
     "output_type": "execute_result"
    }
   ],
   "source": [
    "get_smallest_interval(3, 11)"
   ]
  },
  {
   "cell_type": "code",
   "execution_count": 5,
   "metadata": {},
   "outputs": [],
   "source": [
    "def find_high_notes_min_steps(\n",
    "    notes1:int,\n",
    "    notes2:int\n",
    "):\n",
    "    # Matrix that keep the number of semi-tones between each pair of pitches between \n",
    "\t# the two chords.\n",
    "    similarities = np.ndarray((len(notes1), len(notes2)))\n",
    "    \n",
    "    # Graph for the matching\n",
    "    G = nx.Graph()\n",
    "\n",
    "    for idx1, note1 in enumerate(notes1):\n",
    "        for idx2, note2 in enumerate(notes2):\n",
    "\t\t\t\t\n",
    "            similarity = 6 - get_smallest_interval(note1,note2)  # 6 being the maximum number \n",
    "                                                                     # semi-tones between two pitches\n",
    "                                                                     # convertion of a distance to similarity\n",
    "\t\t\t\t\t\t\t\t\t\t\t\t\t \n",
    "            similarities[idx1,idx2] = similarity \n",
    "\t\t\t\t      \n",
    "\t\t\t# the second node is define by the length of the first chord plus \n",
    "\t\t\t# the index of the corresponding pitch within the second chord \n",
    "            G.add_weighted_edges_from([(idx1,idx2+len(notes1), similarity)])\n",
    "            \n",
    "    matching = nx.max_weight_matching(G, maxcardinality=True)\n",
    "    matching = [(pair[0], pair[1]-len(notes1)) for pair in matching]\n",
    "\t# Total distance\t\t\t\t\t\t\t          \n",
    "    total_steps = 0\n",
    "    for pair in matching:\n",
    "\t\t\t\n",
    "\t\t# We substract the length of the first chord to the second node of the\n",
    "\t\t# matching to the index of the corresponding pitch within the second chord\n",
    "        total_steps+=6-similarities[pair[0], pair[1]]\n",
    "            \n",
    "    return total_steps, matching"
   ]
  },
  {
   "cell_type": "code",
   "execution_count": 598,
   "metadata": {},
   "outputs": [],
   "source": [
    "root1=0\n",
    "root2=0\n",
    "chord_type1=ChordType.MAJOR\n",
    "chord_type2=ChordType.DIMINISHED\n",
    "inversion1=0\n",
    "inversion2=2\n",
    "\n",
    "bass_weight=3\n",
    "duplicate_bass=True\n",
    "pitch_type = PitchType.MIDI"
   ]
  },
  {
   "cell_type": "code",
   "execution_count": 599,
   "metadata": {},
   "outputs": [
    {
     "data": {
      "text/plain": [
       "20.0"
      ]
     },
     "execution_count": 599,
     "metadata": {},
     "output_type": "execute_result"
    }
   ],
   "source": [
    "voice_leading_distance(root1=root1,\n",
    "                      root2=root2,\n",
    "                      chord_type1=chord_type1,\n",
    "                      chord_type2=chord_type2,\n",
    "                      inversion1=inversion1,\n",
    "                      inversion2=inversion2,\n",
    "                      duplicate_bass=duplicate_bass,\n",
    "                      bass_weight=bass_weight)"
   ]
  },
  {
   "cell_type": "code",
   "execution_count": 586,
   "metadata": {},
   "outputs": [
    {
     "data": {
      "text/plain": [
       "0    0\n",
       "1    4\n",
       "2    7\n",
       "dtype: int64"
      ]
     },
     "execution_count": 586,
     "metadata": {},
     "output_type": "execute_result"
    }
   ],
   "source": [
    "notes1 = pd.Series(get_chord_pitches(root = root1,\n",
    "                                     chord_type = chord_type1,\n",
    "                                     pitch_type = pitch_type,\n",
    "                                         inversion = inversion1))\n",
    "notes1"
   ]
  },
  {
   "cell_type": "code",
   "execution_count": 587,
   "metadata": {},
   "outputs": [
    {
     "data": {
      "text/plain": [
       "0   -6\n",
       "1    0\n",
       "2    3\n",
       "dtype: int64"
      ]
     },
     "execution_count": 587,
     "metadata": {},
     "output_type": "execute_result"
    }
   ],
   "source": [
    "notes2 = pd.Series(get_chord_pitches(root = root2,\n",
    "                                         chord_type = chord_type2,\n",
    "                                     pitch_type = pitch_type,\n",
    "                                         inversion = inversion2))\n",
    "notes2"
   ]
  },
  {
   "cell_type": "code",
   "execution_count": 588,
   "metadata": {},
   "outputs": [
    {
     "name": "stdout",
     "output_type": "stream",
     "text": [
      "0 0 6\n",
      "0 1 0\n",
      "0 2 3\n",
      "1 0 2\n",
      "1 1 4\n",
      "1 2 1\n",
      "2 0 1\n",
      "2 1 5\n",
      "2 2 4\n"
     ]
    },
    {
     "data": {
      "text/plain": [
       "20.0"
      ]
     },
     "execution_count": 588,
     "metadata": {},
     "output_type": "execute_result"
    }
   ],
   "source": [
    "total_steps=0\n",
    "similarities = np.ndarray((len(notes1), len(notes2)))\n",
    "    \n",
    "bass_steps = get_smallest_interval(notes1[0],notes2[0])\n",
    "    \n",
    "G = nx.Graph()\n",
    "\n",
    "if duplicate_bass :\n",
    "    for idx1, note1 in notes1.items():\n",
    "        for idx2, note2 in notes2.items():\n",
    "\t        \n",
    "            similarity = 6 - get_smallest_interval(note1,note2)\n",
    "            similarities[idx1,idx2] = similarity\n",
    "            print(idx1,idx2, 6-similarity)\n",
    "\t    \n",
    "            G.add_weighted_edges_from([(idx1,idx2+len(notes1), similarity)])\n",
    "    \n",
    "else :\n",
    "    for idx1, note1 in notes1[1:].items():\n",
    "        for idx2, note2 in notes2[1:].items():\n",
    "\t        \n",
    "            similarity = 6 - get_smallest_interval(note1,note2)\n",
    "            similarities[idx1,idx2] = similarity\n",
    "            print(idx1,idx2, 6-similarity)\n",
    "\t    \n",
    "            G.add_weighted_edges_from([(idx1,idx2+len(notes1), similarity)])\n",
    "            \n",
    "matching = nx.max_weight_matching(G, maxcardinality=True)\n",
    "\t\n",
    "for pair in matching:\n",
    "    if pair != (0, len(notes1)):\n",
    "            total_steps+=6-similarities[pair[0], pair[1]-len(notes1)]\n",
    "similarities[0,0] = bass_steps\n",
    "total_steps += bass_weight*bass_steps\n",
    "total_steps"
   ]
  },
  {
   "cell_type": "code",
   "execution_count": 589,
   "metadata": {},
   "outputs": [
    {
     "data": {
      "text/plain": [
       "6"
      ]
     },
     "execution_count": 589,
     "metadata": {},
     "output_type": "execute_result"
    }
   ],
   "source": [
    "bass_steps"
   ]
  },
  {
   "cell_type": "code",
   "execution_count": 590,
   "metadata": {},
   "outputs": [
    {
     "data": {
      "text/plain": [
       "{(0, 4), (1, 5), (2, 3)}"
      ]
     },
     "execution_count": 590,
     "metadata": {},
     "output_type": "execute_result"
    }
   ],
   "source": [
    "matching"
   ]
  },
  {
   "cell_type": "code",
   "execution_count": 591,
   "metadata": {},
   "outputs": [
    {
     "data": {
      "text/plain": [
       "[(2, 0), (0, 1), (1, 2)]"
      ]
     },
     "execution_count": 591,
     "metadata": {},
     "output_type": "execute_result"
    }
   ],
   "source": [
    "matching = [(pair[0], pair[1]-len(notes1)) for pair in matching]\n",
    "matching"
   ]
  },
  {
   "cell_type": "code",
   "execution_count": 592,
   "metadata": {},
   "outputs": [
    {
     "data": {
      "text/plain": [
       "[(2, 0), (0, 1), (1, 2)]"
      ]
     },
     "execution_count": 592,
     "metadata": {},
     "output_type": "execute_result"
    }
   ],
   "source": [
    "if duplicate_bass :\n",
    "    dist, matching = find_high_notes_min_steps(notes1, notes2)\n",
    "    dist += (bass_weight-1)*get_smallest_interval(notes1[0],notes2[0])\n",
    "\n",
    "else :\n",
    "    dist, matching = find_high_notes_min_steps(notes1[1:], notes2[1:])\n",
    "    matching=[(0,0)]+[(pair[0]+1, pair[1]+1) for pair in matching]\n",
    "    dist += bass_weight*get_smallest_interval(notes1[0],notes2[0])\n",
    "\n",
    "\n",
    "matching"
   ]
  },
  {
   "cell_type": "code",
   "execution_count": 593,
   "metadata": {},
   "outputs": [
    {
     "data": {
      "text/plain": [
       "14.0"
      ]
     },
     "execution_count": 593,
     "metadata": {},
     "output_type": "execute_result"
    }
   ],
   "source": [
    "dist"
   ]
  },
  {
   "cell_type": "code",
   "execution_count": 594,
   "metadata": {},
   "outputs": [
    {
     "data": {
      "text/plain": [
       "Series([], dtype: int64)"
      ]
     },
     "execution_count": 594,
     "metadata": {},
     "output_type": "execute_result"
    }
   ],
   "source": [
    "if len(notes1)!=len(notes2):\n",
    "    if len(notes1)>len(notes2):\n",
    "        big_chord = notes1.copy()\n",
    "        bc_idx = 0\n",
    "        short_chord = notes2.copy()\n",
    "    elif len(notes1)<len(notes2):\n",
    "        big_chord = notes2.copy()\n",
    "        bc_idx = 1\n",
    "        short_chord = notes1.copy()\n",
    "            \n",
    "    for pair in matching:\n",
    "        idx = pair[bc_idx]\n",
    "        big_chord.drop(idx, inplace=True)\n",
    "            \n",
    "big_chord"
   ]
  },
  {
   "cell_type": "code",
   "execution_count": 595,
   "metadata": {},
   "outputs": [
    {
     "data": {
      "text/plain": [
       "14.0"
      ]
     },
     "execution_count": 595,
     "metadata": {},
     "output_type": "execute_result"
    }
   ],
   "source": [
    "for note_b in big_chord:\n",
    "    dist += min([get_smallest_interval(note_b,note_s) for note_s in short_chord])\n",
    "dist"
   ]
  },
  {
   "cell_type": "code",
   "execution_count": 491,
   "metadata": {},
   "outputs": [],
   "source": [
    "if len(notes1)!=len(notes2):\n",
    "  \n",
    "    while (len(big_chord)!=0):\n",
    "        G = nx.Graph()\n",
    "        for idx_b, note_b in big_chord.items():\n",
    "            for idx_s, note_s in short_chord.items():\n",
    "                \n",
    "                note_b, note_s = compare_notes(note_b, note_s)\n",
    "                similarity = 6-np.abs(note_b-note_s)\n",
    "                if bc_idx :\n",
    "                    similarities[idx_s,idx_b] = similarity\n",
    "                    G.add_weighted_edges_from([(idx_b,idx_s+len(notes2),\n",
    "                                                    similarity)])\n",
    "                else :\n",
    "                    similarities[idx_b,idx_s] = similarity\n",
    "                    G.add_weighted_edges_from([(idx_b,idx_s+len(notes1),\n",
    "                                                    similarity)])        \n",
    "                \n",
    "        matching = nx.max_weight_matching(G)\n",
    "        for pair in matching:\n",
    "            big_chord.drop(pair[0], inplace=True)\n",
    "            if bc_idx :\n",
    "                total_steps+=6-similarities[pair[1]-len(notes2), pair[0]]\n",
    "            else :\n",
    "                total_steps+=6-similarities[pair[0], pair[1]-len(notes1)]"
   ]
  },
  {
   "cell_type": "code",
   "execution_count": 492,
   "metadata": {},
   "outputs": [
    {
     "data": {
      "text/plain": [
       "{(0, 4)}"
      ]
     },
     "execution_count": 492,
     "metadata": {},
     "output_type": "execute_result"
    }
   ],
   "source": [
    "matching"
   ]
  },
  {
   "cell_type": "code",
   "execution_count": 493,
   "metadata": {},
   "outputs": [
    {
     "data": {
      "text/plain": [
       "[(0, 1)]"
      ]
     },
     "execution_count": 493,
     "metadata": {},
     "output_type": "execute_result"
    }
   ],
   "source": [
    "matching = [(pair[0], pair[1]-len(short_chord)) for pair in matching]\n",
    "matching"
   ]
  },
  {
   "cell_type": "code",
   "execution_count": 494,
   "metadata": {},
   "outputs": [
    {
     "data": {
      "text/plain": [
       "5.0"
      ]
     },
     "execution_count": 494,
     "metadata": {},
     "output_type": "execute_result"
    }
   ],
   "source": [
    "total_steps"
   ]
  },
  {
   "cell_type": "code",
   "execution_count": null,
   "metadata": {},
   "outputs": [],
   "source": []
  },
  {
   "cell_type": "code",
   "execution_count": 2,
   "metadata": {},
   "outputs": [],
   "source": [
    "#!/usr/bin/env python3\n",
    "# -*- coding: utf-8 -*-\n",
    "\n",
    "import pandas as pd\n",
    "import seaborn as sns\n",
    "import matplotlib.pyplot as plt\n",
    "import ast\n",
    "\n",
    "\n",
    "from fractions import Fraction\n",
    "\n",
    "from metric import get_distance\n",
    "from data_types import ChordType\n",
    "\n",
    "PITCH_TO_STRING = {0:'C',1:'Db',2:'D',3:'Eb',4:'E',5:'F',\n",
    "                   6:'Gb',7:'G',8:'Ab',9:'A',10:'Bb',11:'B'}\n",
    "\n",
    "def overlap(\n",
    "    i1:float,\n",
    "    i2:float\n",
    ") -> bool:\n",
    "\t\"\"\"\n",
    "\tRetrun if the two intervals overlap\n",
    "\n",
    "\tParameters\n",
    "\t----------\n",
    "\ti1 : float\n",
    "\t\tfirst interval : array of two elements.\n",
    "\ti2 : float\n",
    "\t\tsecond interval : array of two elements.\n",
    "\n",
    "\tReturns\n",
    "\t-------\n",
    "\tbool\n",
    "\t\tTrue if the two intervals overlap.\n",
    "\n",
    "\t\"\"\"\n",
    "\tif i1[1]>i2[0] and i1[1]<=i2[1]:\n",
    "\t\treturn True\n",
    "\tif i2[1]>i1[0] and i2[1]<=i1[1]:\n",
    "\t\treturn True\n",
    "\treturn False\n",
    "\n",
    "\n",
    "def duration_overlap(\n",
    "    i1:float,\n",
    "    i2:float\n",
    ") -> float:\n",
    "\t\"\"\"\n",
    "\tReturn the duration of the common section of the two intervals.\n",
    "\n",
    "\tParameters\n",
    "\t----------\n",
    "\ti1 : float\n",
    "\t\tfirst interval : array of two elements.\n",
    "\ti2 : float\n",
    "\t\tsecond interval : array of two elements.\n",
    "\n",
    "\tReturns\n",
    "\t-------\n",
    "\tfloat\n",
    "\t\tduration of the common section of the two intervals.\n",
    "\n",
    "\t\"\"\"\n",
    "\tif i1[1]>i2[0] and i1[1]<=i2[1]:\n",
    "\t\tif i1[0]<i2[0]:\n",
    "\t\t\treturn i1[1]-i2[0]\n",
    "\t\telse :\n",
    "\t\t\treturn i1[1]-i1[0]\n",
    "\tif i2[1]>i1[0] and i2[1]<=i1[1]:\n",
    "\t\tif i2[0]<i1[0]:\n",
    "\t\t\treturn i2[1]-i1[0]\n",
    "\t\telse :\n",
    "\t\t\treturn i2[1]-i2[0]\n",
    "\treturn 0"
   ]
  },
  {
   "cell_type": "code",
   "execution_count": 3,
   "metadata": {},
   "outputs": [],
   "source": [
    "nb = 1\n",
    "nb = str(nb) \n",
    "nb = nb if len(nb)>1 else '0'+ nb \n",
    "fh_path =  '../Data/Beethoven_sonata_fh/' + nb + '-1.csv'\n",
    "dcml_path =  '../Data/Beethoven_sonata_dcml/' + nb + '-1.csv'\n",
    "\n",
    "PITCH_TO_STRING = {0:'C',1:'Db',2:'D',3:'Eb',4:'E',5:'F',\n",
    "                   6:'Gb',7:'G',8:'Ab',9:'A',10:'Bb',11:'B'}\n",
    "\n",
    "fh_df = pd.read_csv(fh_path, converters={'duration': Fraction})\n",
    "fh_df['chord_type'] = fh_df['chord_type'].apply(lambda r : ChordType[r.split(\".\")[1]])\n",
    "fh_df['full_chord'] = fh_df.apply(lambda r : PITCH_TO_STRING[r.chord_root_midi] + '_' + str(r.chord_type).split(\".\")[1]+\"_inv\"+str(r.chord_inversion), axis=1)    \n",
    "\n",
    "features = ['interval', 'matched_idx', 'matched_duration', 'chords_sps_dist', 'chords_vl_dist', 'chords_tbt_dist']\n",
    "for feature in features :\n",
    "    fh_df[feature] = fh_df[feature].apply(lambda r : ast.literal_eval(r))\n",
    "    \n",
    "dcml_df = pd.read_csv(dcml_path, converters={'duration': Fraction})\n",
    "dcml_df['chord_type'] = dcml_df['chord_type'].apply(lambda r : ChordType[r.split(\".\")[1]])\n",
    "dcml_df['full_chord'] = dcml_df.apply(lambda r : PITCH_TO_STRING[r.chord_root_midi] + '_' + str(r.chord_type).split(\".\")[1]+\"_inv\"+str(r.chord_inversion), axis=1)    \n",
    "dcml_df['interval'] = dcml_df['interval'].apply(lambda r : ast.literal_eval(r))"
   ]
  },
  {
   "cell_type": "code",
   "execution_count": 15,
   "metadata": {},
   "outputs": [],
   "source": [
    "df1 = pd.read_csv(\"../Data/Beethoven-labels/dcml-03-1.tsv\", sep='\\t')\n",
    "df1['chord_type'] = df1['chord_type'].apply(lambda r : ChordType[r.split(\".\")[1]])\n",
    "\n",
    "df2 = pd.read_csv(\"../Data/Beethoven-labels/fh-03-1.tsv\", sep='\\t')\n",
    "df2['chord_type'] = df2['chord_type'].apply(lambda r : ChordType[r.split(\".\")[1]])"
   ]
  },
  {
   "cell_type": "code",
   "execution_count": 16,
   "metadata": {},
   "outputs": [],
   "source": [
    "def test_columns(df:pd.DataFrame):\n",
    "    columns_df=df.columns\n",
    "    if 'chord_root_midi' not in columns_df:\n",
    "        raise KeyError(\"'chord_root_midi' must be a column of the data frame.\")\n",
    "\n",
    "    if 'chord_type' not in columns_df:\n",
    "        raise KeyError(\"'chord_type' must be a column of the data frame.\")\n",
    "\n",
    "\n",
    "    if 'chord_inversion' not in columns_df:\n",
    "        raise KeyError(\"'chord_inversion' must be a column of the data frame.\")\n",
    "\n",
    "    if 'duration' not in columns_df:\n",
    "        raise KeyError(\"'duration' must be a column of the data frame.\")\n",
    "        \n",
    "    df1['duration'] = df1['duration'].apply(lambda r : Fraction(r))\n",
    "    df2['duration'] = df2['duration'].apply(lambda r : Fraction(r))"
   ]
  },
  {
   "cell_type": "code",
   "execution_count": 17,
   "metadata": {},
   "outputs": [],
   "source": [
    "test_columns(df1)\n",
    "test_columns(df2)\n",
    "\n",
    "df1_full_chord = df1.apply(lambda r : PITCH_TO_STRING[r.chord_root_midi] + '_' + str(r.chord_type).split(\".\")[1]+\"_inv\"+str(r.chord_inversion), axis=1)\n",
    "df2_full_chord = df2.apply(lambda r : PITCH_TO_STRING[r.chord_root_midi] + '_' + str(r.chord_type).split(\".\")[1]+\"_inv\"+str(r.chord_inversion), axis=1)\n",
    "\n",
    "time_df1 = df1.duration.cumsum().astype(float, copy=False)\n",
    "df1_interval = [[i, f] for i, f in zip([0]+list(time_df1[:-1]), time_df1)]\n",
    "\n",
    "time_df2 = df2.duration.cumsum().astype(float, copy=False)\n",
    "df2_interval = [[i, f] for i, f in zip([0]+list(time_df2[:-1]), time_df2)]\n",
    "\n",
    "\n",
    "sps = []\n",
    "vl  = []\n",
    "tbt = []\n",
    "binary = []\n",
    "\t\n",
    "time = []\n",
    "\t\n",
    "chords_df2 = []\n",
    "chords_df1 = []\n",
    "\n",
    "idx_df1 = 0\n",
    "for idx_df2, rdf2 in df2.iterrows():\n",
    "\tmatched_idx = []\n",
    "\tmatched_duration = []\n",
    "\tchords_sps_dist = []\n",
    "\tchords_vl_dist = []\n",
    "\tchords_tbt_dist = []\n",
    "        \n",
    "\tif (idx_df1 > 0 and overlap(df1_interval[idx_df1-1], df2_interval[idx_df2])):\n",
    "            \n",
    "\t\tmatched_idx.append(idx_df1-1)\n",
    "            \n",
    "\t\tmatched_duration.append(duration_overlap(df1_interval[idx_df1-1], df2_interval[idx_df2]))\n",
    "            \n",
    "\t\tchords_sps_dist.append(get_distance(distance = 'SPS',\n",
    "                                               root1=df1.chord_root_midi[idx_df1-1],\n",
    "                                               root2=rdf2.chord_root_midi,\n",
    "                                               chord_type1=df1.chord_type[idx_df1-1],\n",
    "                                               chord_type2=rdf2.chord_type,\n",
    "                                               inversion1=df1.chord_inversion[idx_df1-1],\n",
    "                                               inversion2=rdf2.chord_inversion))\n",
    "\n",
    "\t\tchords_vl_dist.append(get_distance(distance = 'voice leading',\n",
    "                                               root1=df1.chord_root_midi[idx_df1-1],\n",
    "                                               root2=rdf2.chord_root_midi,\n",
    "                                               chord_type1=df1.chord_type[idx_df1-1],\n",
    "                                               chord_type2=rdf2.chord_type,\n",
    "                                               inversion1=df1.chord_inversion[idx_df1-1],\n",
    "                                               inversion2=rdf2.chord_inversion,\n",
    "                                               bass_weight = 3))\n",
    "\n",
    "\t\tchords_tbt_dist.append(get_distance(distance = 'tone by tone',\n",
    "                                               root1=df1.chord_root_midi[idx_df1-1],\n",
    "                                               root2=rdf2.chord_root_midi,\n",
    "                                               chord_type1=df1.chord_type[idx_df1-1],\n",
    "                                               chord_type2=rdf2.chord_type,\n",
    "                                               inversion1=df1.chord_inversion[idx_df1-1],\n",
    "                                               inversion2=rdf2.chord_inversion,\n",
    "                                               bass_weight = 3,\n",
    "                                               root_weight = 3))\n",
    "\n",
    "\twhile(idx_df1 < len(df1) and overlap(df1_interval[idx_df1], df2_interval[idx_df2])):\n",
    "            \n",
    "\t\tmatched_idx.append(idx_df1)\n",
    "            \n",
    "\t\tmatched_duration.append(duration_overlap(df1_interval[idx_df1], df2_interval[idx_df2]))\n",
    "            \n",
    "\t\tchords_sps_dist.append(get_distance(distance = 'SPS',\n",
    "                                               root1=df1.chord_root_midi[idx_df1],\n",
    "                                               root2=rdf2.chord_root_midi,\n",
    "                                               chord_type1=df1.chord_type[idx_df1],\n",
    "                                               chord_type2=rdf2.chord_type,\n",
    "                                               inversion1=df1.chord_inversion[idx_df1],\n",
    "                                               inversion2=rdf2.chord_inversion))\n",
    "\n",
    "\t\tchords_vl_dist.append(get_distance(distance = 'voice leading',\n",
    "                                               root1=df1.chord_root_midi[idx_df1],\n",
    "                                               root2=rdf2.chord_root_midi,\n",
    "                                               chord_type1=df1.chord_type[idx_df1],\n",
    "                                               chord_type2=rdf2.chord_type,\n",
    "                                               inversion1=df1.chord_inversion[idx_df1],\n",
    "                                               inversion2=rdf2.chord_inversion,\n",
    "                                               bass_weight = 3))\n",
    "\n",
    "\t\tchords_tbt_dist.append(get_distance(distance = 'tone by tone',\n",
    "                                               root1=df1.chord_root_midi[idx_df1],\n",
    "                                               root2=rdf2.chord_root_midi,\n",
    "                                               chord_type1=df1.chord_type[idx_df1],\n",
    "                                               chord_type2=rdf2.chord_type,\n",
    "                                               inversion1=df1.chord_inversion[idx_df1],\n",
    "                                               inversion2=rdf2.chord_inversion,\n",
    "                                               bass_weight = 3,\n",
    "                                               root_weight = 3))\n",
    "\n",
    "\t\tidx_df1 += 1\n",
    "\t\t\n",
    "\tdist_bin = [0 if tbt == 0 else 1 for tbt in chords_tbt_dist]\n",
    "\t    \n",
    "\tsps+=chords_sps_dist\n",
    "\tvl +=chords_vl_dist\n",
    "\ttbt+=chords_tbt_dist\n",
    "\tbinary+=dist_bin\n",
    "\t    \n",
    "\tif len(matched_idx)>0:\n",
    "\t        \n",
    "\t\ttime.append(df2_interval[idx_df2][0])\n",
    "\t\tif len(matched_idx)>1:\n",
    "\t\t\tfor duration in matched_duration:\n",
    "\t\t\t\ttime.append(df2_interval[idx_df2][0]+duration)\n",
    "\t\t\tdel time[-1]\n",
    "\t        \n",
    "\t\tchords_df2 += [df2_full_chord[idx_df2]]*len(matched_idx)\n",
    "\t\tchords_df1 += [df1_full_chord[idx_df1] for idx_df1 in matched_idx]\n",
    "            \n",
    "progression = pd.DataFrame({'time':time,\n",
    "\t                            'annotation1_chord':chords_df1,\n",
    "\t                            'annotation2_chord':chords_df2,\n",
    "\t                            'sps':sps,\n",
    "\t                            'vl':vl,\n",
    "\t                            'tbt':tbt,\n",
    "\t                            'binary':binary})\n"
   ]
  },
  {
   "cell_type": "code",
   "execution_count": 18,
   "metadata": {},
   "outputs": [
    {
     "data": {
      "text/html": [
       "<div>\n",
       "<style scoped>\n",
       "    .dataframe tbody tr th:only-of-type {\n",
       "        vertical-align: middle;\n",
       "    }\n",
       "\n",
       "    .dataframe tbody tr th {\n",
       "        vertical-align: top;\n",
       "    }\n",
       "\n",
       "    .dataframe thead th {\n",
       "        text-align: right;\n",
       "    }\n",
       "</style>\n",
       "<table border=\"1\" class=\"dataframe\">\n",
       "  <thead>\n",
       "    <tr style=\"text-align: right;\">\n",
       "      <th></th>\n",
       "      <th>time</th>\n",
       "      <th>annotation1_chord</th>\n",
       "      <th>annotation2_chord</th>\n",
       "      <th>sps</th>\n",
       "      <th>vl</th>\n",
       "      <th>tbt</th>\n",
       "      <th>binary</th>\n",
       "    </tr>\n",
       "  </thead>\n",
       "  <tbody>\n",
       "    <tr>\n",
       "      <th>0</th>\n",
       "      <td>0.0000</td>\n",
       "      <td>C_MAJOR_inv0</td>\n",
       "      <td>C_MAJOR_inv0</td>\n",
       "      <td>0.000000</td>\n",
       "      <td>0.0</td>\n",
       "      <td>0.000</td>\n",
       "      <td>0</td>\n",
       "    </tr>\n",
       "    <tr>\n",
       "      <th>1</th>\n",
       "      <td>0.5000</td>\n",
       "      <td>C_MAJOR_inv0</td>\n",
       "      <td>C_MAJOR_inv0</td>\n",
       "      <td>0.000000</td>\n",
       "      <td>0.0</td>\n",
       "      <td>0.000</td>\n",
       "      <td>0</td>\n",
       "    </tr>\n",
       "    <tr>\n",
       "      <th>2</th>\n",
       "      <td>0.5625</td>\n",
       "      <td>C_MAJOR_inv0</td>\n",
       "      <td>C_MAJOR_inv0</td>\n",
       "      <td>0.000000</td>\n",
       "      <td>0.0</td>\n",
       "      <td>0.000</td>\n",
       "      <td>0</td>\n",
       "    </tr>\n",
       "    <tr>\n",
       "      <th>3</th>\n",
       "      <td>0.6250</td>\n",
       "      <td>C_MAJOR_inv0</td>\n",
       "      <td>C_MAJOR_inv0</td>\n",
       "      <td>0.000000</td>\n",
       "      <td>0.0</td>\n",
       "      <td>0.000</td>\n",
       "      <td>0</td>\n",
       "    </tr>\n",
       "    <tr>\n",
       "      <th>4</th>\n",
       "      <td>0.6875</td>\n",
       "      <td>C_MAJOR_inv0</td>\n",
       "      <td>C_MAJOR_inv0</td>\n",
       "      <td>0.000000</td>\n",
       "      <td>0.0</td>\n",
       "      <td>0.000</td>\n",
       "      <td>0</td>\n",
       "    </tr>\n",
       "    <tr>\n",
       "      <th>...</th>\n",
       "      <td>...</td>\n",
       "      <td>...</td>\n",
       "      <td>...</td>\n",
       "      <td>...</td>\n",
       "      <td>...</td>\n",
       "      <td>...</td>\n",
       "      <td>...</td>\n",
       "    </tr>\n",
       "    <tr>\n",
       "      <th>2392</th>\n",
       "      <td>255.0000</td>\n",
       "      <td>C_MAJOR_inv0</td>\n",
       "      <td>D_MINOR_inv1</td>\n",
       "      <td>0.813390</td>\n",
       "      <td>20.0</td>\n",
       "      <td>1.000</td>\n",
       "      <td>1</td>\n",
       "    </tr>\n",
       "    <tr>\n",
       "      <th>2393</th>\n",
       "      <td>255.2500</td>\n",
       "      <td>C_MAJOR_inv0</td>\n",
       "      <td>D_MINOR_inv1</td>\n",
       "      <td>0.813390</td>\n",
       "      <td>20.0</td>\n",
       "      <td>1.000</td>\n",
       "      <td>1</td>\n",
       "    </tr>\n",
       "    <tr>\n",
       "      <th>2394</th>\n",
       "      <td>255.5000</td>\n",
       "      <td>G_MAJ_MIN7_inv0</td>\n",
       "      <td>D_MINOR_inv1</td>\n",
       "      <td>0.415949</td>\n",
       "      <td>10.0</td>\n",
       "      <td>0.750</td>\n",
       "      <td>1</td>\n",
       "    </tr>\n",
       "    <tr>\n",
       "      <th>2395</th>\n",
       "      <td>256.0000</td>\n",
       "      <td>C_MAJOR_inv0</td>\n",
       "      <td>G_MAJ_MIN7_inv0</td>\n",
       "      <td>0.704164</td>\n",
       "      <td>19.0</td>\n",
       "      <td>0.875</td>\n",
       "      <td>1</td>\n",
       "    </tr>\n",
       "    <tr>\n",
       "      <th>2396</th>\n",
       "      <td>256.2500</td>\n",
       "      <td>C_MAJOR_inv0</td>\n",
       "      <td>G_MAJ_MIN7_inv0</td>\n",
       "      <td>0.704164</td>\n",
       "      <td>19.0</td>\n",
       "      <td>0.875</td>\n",
       "      <td>1</td>\n",
       "    </tr>\n",
       "  </tbody>\n",
       "</table>\n",
       "<p>2397 rows × 7 columns</p>\n",
       "</div>"
      ],
      "text/plain": [
       "          time annotation1_chord annotation2_chord       sps    vl    tbt  \\\n",
       "0       0.0000      C_MAJOR_inv0      C_MAJOR_inv0  0.000000   0.0  0.000   \n",
       "1       0.5000      C_MAJOR_inv0      C_MAJOR_inv0  0.000000   0.0  0.000   \n",
       "2       0.5625      C_MAJOR_inv0      C_MAJOR_inv0  0.000000   0.0  0.000   \n",
       "3       0.6250      C_MAJOR_inv0      C_MAJOR_inv0  0.000000   0.0  0.000   \n",
       "4       0.6875      C_MAJOR_inv0      C_MAJOR_inv0  0.000000   0.0  0.000   \n",
       "...        ...               ...               ...       ...   ...    ...   \n",
       "2392  255.0000      C_MAJOR_inv0      D_MINOR_inv1  0.813390  20.0  1.000   \n",
       "2393  255.2500      C_MAJOR_inv0      D_MINOR_inv1  0.813390  20.0  1.000   \n",
       "2394  255.5000   G_MAJ_MIN7_inv0      D_MINOR_inv1  0.415949  10.0  0.750   \n",
       "2395  256.0000      C_MAJOR_inv0   G_MAJ_MIN7_inv0  0.704164  19.0  0.875   \n",
       "2396  256.2500      C_MAJOR_inv0   G_MAJ_MIN7_inv0  0.704164  19.0  0.875   \n",
       "\n",
       "      binary  \n",
       "0          0  \n",
       "1          0  \n",
       "2          0  \n",
       "3          0  \n",
       "4          0  \n",
       "...      ...  \n",
       "2392       1  \n",
       "2393       1  \n",
       "2394       1  \n",
       "2395       1  \n",
       "2396       1  \n",
       "\n",
       "[2397 rows x 7 columns]"
      ]
     },
     "execution_count": 18,
     "metadata": {},
     "output_type": "execute_result"
    }
   ],
   "source": [
    "progression"
   ]
  },
  {
   "cell_type": "code",
   "execution_count": 38,
   "metadata": {},
   "outputs": [
    {
     "ename": "IndentationError",
     "evalue": "unindent does not match any outer indentation level (<tokenize>, line 64)",
     "output_type": "error",
     "traceback": [
      "\u001b[0;36m  File \u001b[0;32m\"<tokenize>\"\u001b[0;36m, line \u001b[0;32m64\u001b[0m\n\u001b[0;31m    plt.text(2000, 2000, 'textstr')\u001b[0m\n\u001b[0m    ^\u001b[0m\n\u001b[0;31mIndentationError\u001b[0m\u001b[0;31m:\u001b[0m unindent does not match any outer indentation level\n"
     ]
    }
   ],
   "source": [
    "\n",
    "def plot_comparison(\n",
    "    progression:pd.DataFrame,\n",
    "    rge:float=None,\n",
    "    verbose:bool=False,\n",
    "\ttitle:str=None\n",
    "\t): \n",
    "\t\"\"\"\n",
    "\tPlot the progression of 2 annotaions\n",
    "\n",
    "\tParameters\n",
    "\t----------\n",
    "\tprogression : pd.DataFrame\n",
    "\t\tpd.DataFrame containg progressino the two annotaion and their distance for\n",
    "\t\teach chord.\n",
    "\trge : float, optional\n",
    "\t\tthe range in terms of whole note of the progression : a 2-element array. \n",
    "\t\tThe default is None.\n",
    "\tverbose : bool, optional\n",
    "\t\tif True the name of each chord of the two annotation will be marked under \n",
    "\t\tthe dot of the event. The default is False.\n",
    "\ttitle : str, optional\n",
    "\t\tTitle of the plot. The default is None.\n",
    "\n",
    "\tReturns\n",
    "\t-------\n",
    "\tNone.\n",
    "\n",
    "\t\"\"\"\n",
    "\tif rge==None:\n",
    "\t\t rge=[progression.time[0],progression.time.iloc[-1]]\n",
    "\n",
    "\tfig, axs = plt.subplots(2,1,figsize=(22,10), sharex=True)\n",
    "\n",
    "\tsns.scatterplot(data=progression.query('time>=@rge[0] and time<@rge[1]'), x='time', y='sps',ax=axs[0], label='SPS')\n",
    "\tsns.scatterplot(data=progression.query('time>=@rge[0] and time<@rge[1]'), x='time', y='tbt',ax=axs[0], label='tone by tone')\n",
    "\taxs[0].grid()\n",
    "\taxs[0].set(xlabel='time', ylabel='distance to matched chord')\n",
    "\n",
    "\tsns.scatterplot(data=progression.query('time>=@rge[0] and time<@rge[1]'), x='time', y='vl',ax=axs[1], label='voice leading')\n",
    "\taxs[1].grid()\n",
    "\taxs[1].set(xlabel='time', ylabel='distance to matched chord')\n",
    "\n",
    "\tif verbose:\n",
    "        \n",
    "\t\tlimit1=progression.query('time>=@rge[0] and time<@rge[1]').index[0]\n",
    "\t\tlimit2=progression.query('time>=@rge[0] and time<@rge[1]').index[-1]\n",
    "        \n",
    "\t\tplt.text(progression.iloc[limit1].time, progression.iloc[limit1].vl-0.5, progression.iloc[limit1].fh_chord, horizontalalignment='center', verticalalignment='top', size='small', fontstretch ='normal', color='maroon')\n",
    "\t\tfor line in range(limit1+1,limit2):\n",
    "\t\t\t if progression.fh_chord[line] != progression.fh_chord[line-1]:\n",
    "\t\t\t\t plt.text(progression.time[line], progression.vl[line]-0.5, progression.fh_chord[line], horizontalalignment='center', verticalalignment='top', size='small', fontstretch ='normal', color='maroon')\n",
    "\n",
    "\t\tplt.text(progression.iloc[limit1].time, progression.iloc[limit1].vl+0.5, progression.iloc[limit1].dcml_chord, horizontalalignment='center', verticalalignment='bottom', size='small', fontstretch ='normal')\n",
    "\t\tfor line in range(limit1+1,limit2):\n",
    "\t\t\tif progression.dcml_chord[line] != progression.dcml_chord[line-1]:\n",
    "\t\t\t\tplt.text(progression.time[line], progression.vl[line]+0.5, progression.dcml_chord[line], horizontalalignment='center', verticalalignment='bottom', size='small', fontstretch ='normal')\n",
    "\n",
    "\n",
    "\tif not title==None:\n",
    "\t\tfig.suptitle(title);\n",
    "    \n",
    "    \n",
    "\tfig.tight_layout()\n"
   ]
  },
  {
   "cell_type": "code",
   "execution_count": 34,
   "metadata": {},
   "outputs": [
    {
     "data": {
      "image/png": "[encoded data removed]",
      "text/plain": [
       "<Figure size 1584x720 with 2 Axes>"
      ]
     },
     "metadata": {
      "needs_background": "light"
     },
     "output_type": "display_data"
    }
   ],
   "source": [
    "plot_comparison(progression)"
   ]
  },
  {
   "cell_type": "code",
   "execution_count": 21,
   "metadata": {},
   "outputs": [
    {
     "data": {
      "text/html": [
       "<div>\n",
       "<style scoped>\n",
       "    .dataframe tbody tr th:only-of-type {\n",
       "        vertical-align: middle;\n",
       "    }\n",
       "\n",
       "    .dataframe tbody tr th {\n",
       "        vertical-align: top;\n",
       "    }\n",
       "\n",
       "    .dataframe thead th {\n",
       "        text-align: right;\n",
       "    }\n",
       "</style>\n",
       "<table border=\"1\" class=\"dataframe\">\n",
       "  <thead>\n",
       "    <tr style=\"text-align: right;\">\n",
       "      <th></th>\n",
       "      <th>chord_root_tpc</th>\n",
       "      <th>chord_root_midi</th>\n",
       "      <th>chord_type</th>\n",
       "      <th>chord_inversion</th>\n",
       "      <th>key_tonic_tpc</th>\n",
       "      <th>key_tonic_midi</th>\n",
       "      <th>key_mode</th>\n",
       "      <th>duration</th>\n",
       "    </tr>\n",
       "  </thead>\n",
       "  <tbody>\n",
       "    <tr>\n",
       "      <th>0</th>\n",
       "      <td>0</td>\n",
       "      <td>0</td>\n",
       "      <td>ChordType.MAJOR</td>\n",
       "      <td>0</td>\n",
       "      <td>0</td>\n",
       "      <td>0</td>\n",
       "      <td>KeyMode.MAJOR</td>\n",
       "      <td>1/2</td>\n",
       "    </tr>\n",
       "    <tr>\n",
       "      <th>1</th>\n",
       "      <td>0</td>\n",
       "      <td>0</td>\n",
       "      <td>ChordType.MAJOR</td>\n",
       "      <td>0</td>\n",
       "      <td>0</td>\n",
       "      <td>0</td>\n",
       "      <td>KeyMode.MAJOR</td>\n",
       "      <td>1/16</td>\n",
       "    </tr>\n",
       "    <tr>\n",
       "      <th>2</th>\n",
       "      <td>0</td>\n",
       "      <td>0</td>\n",
       "      <td>ChordType.MAJOR</td>\n",
       "      <td>0</td>\n",
       "      <td>0</td>\n",
       "      <td>0</td>\n",
       "      <td>KeyMode.MAJOR</td>\n",
       "      <td>1/16</td>\n",
       "    </tr>\n",
       "    <tr>\n",
       "      <th>3</th>\n",
       "      <td>0</td>\n",
       "      <td>0</td>\n",
       "      <td>ChordType.MAJOR</td>\n",
       "      <td>0</td>\n",
       "      <td>0</td>\n",
       "      <td>0</td>\n",
       "      <td>KeyMode.MAJOR</td>\n",
       "      <td>1/16</td>\n",
       "    </tr>\n",
       "    <tr>\n",
       "      <th>4</th>\n",
       "      <td>0</td>\n",
       "      <td>0</td>\n",
       "      <td>ChordType.MAJOR</td>\n",
       "      <td>0</td>\n",
       "      <td>0</td>\n",
       "      <td>0</td>\n",
       "      <td>KeyMode.MAJOR</td>\n",
       "      <td>1/16</td>\n",
       "    </tr>\n",
       "    <tr>\n",
       "      <th>...</th>\n",
       "      <td>...</td>\n",
       "      <td>...</td>\n",
       "      <td>...</td>\n",
       "      <td>...</td>\n",
       "      <td>...</td>\n",
       "      <td>...</td>\n",
       "      <td>...</td>\n",
       "      <td>...</td>\n",
       "    </tr>\n",
       "    <tr>\n",
       "      <th>2410</th>\n",
       "      <td>1</td>\n",
       "      <td>7</td>\n",
       "      <td>ChordType.MAJ_MIN7</td>\n",
       "      <td>0</td>\n",
       "      <td>0</td>\n",
       "      <td>0</td>\n",
       "      <td>KeyMode.MAJOR</td>\n",
       "      <td>1/16</td>\n",
       "    </tr>\n",
       "    <tr>\n",
       "      <th>2411</th>\n",
       "      <td>1</td>\n",
       "      <td>7</td>\n",
       "      <td>ChordType.MAJ_MIN7</td>\n",
       "      <td>0</td>\n",
       "      <td>0</td>\n",
       "      <td>0</td>\n",
       "      <td>KeyMode.MAJOR</td>\n",
       "      <td>1/16</td>\n",
       "    </tr>\n",
       "    <tr>\n",
       "      <th>2412</th>\n",
       "      <td>0</td>\n",
       "      <td>0</td>\n",
       "      <td>ChordType.MAJOR</td>\n",
       "      <td>0</td>\n",
       "      <td>0</td>\n",
       "      <td>0</td>\n",
       "      <td>KeyMode.MAJOR</td>\n",
       "      <td>1/2</td>\n",
       "    </tr>\n",
       "    <tr>\n",
       "      <th>2413</th>\n",
       "      <td>1</td>\n",
       "      <td>7</td>\n",
       "      <td>ChordType.MAJ_MIN7</td>\n",
       "      <td>0</td>\n",
       "      <td>0</td>\n",
       "      <td>0</td>\n",
       "      <td>KeyMode.MAJOR</td>\n",
       "      <td>1/2</td>\n",
       "    </tr>\n",
       "    <tr>\n",
       "      <th>2414</th>\n",
       "      <td>0</td>\n",
       "      <td>0</td>\n",
       "      <td>ChordType.MAJOR</td>\n",
       "      <td>0</td>\n",
       "      <td>0</td>\n",
       "      <td>0</td>\n",
       "      <td>KeyMode.MAJOR</td>\n",
       "      <td>1</td>\n",
       "    </tr>\n",
       "  </tbody>\n",
       "</table>\n",
       "<p>2415 rows × 8 columns</p>\n",
       "</div>"
      ],
      "text/plain": [
       "      chord_root_tpc  chord_root_midi          chord_type  chord_inversion  \\\n",
       "0                  0                0     ChordType.MAJOR                0   \n",
       "1                  0                0     ChordType.MAJOR                0   \n",
       "2                  0                0     ChordType.MAJOR                0   \n",
       "3                  0                0     ChordType.MAJOR                0   \n",
       "4                  0                0     ChordType.MAJOR                0   \n",
       "...              ...              ...                 ...              ...   \n",
       "2410               1                7  ChordType.MAJ_MIN7                0   \n",
       "2411               1                7  ChordType.MAJ_MIN7                0   \n",
       "2412               0                0     ChordType.MAJOR                0   \n",
       "2413               1                7  ChordType.MAJ_MIN7                0   \n",
       "2414               0                0     ChordType.MAJOR                0   \n",
       "\n",
       "      key_tonic_tpc  key_tonic_midi       key_mode duration  \n",
       "0                 0               0  KeyMode.MAJOR      1/2  \n",
       "1                 0               0  KeyMode.MAJOR     1/16  \n",
       "2                 0               0  KeyMode.MAJOR     1/16  \n",
       "3                 0               0  KeyMode.MAJOR     1/16  \n",
       "4                 0               0  KeyMode.MAJOR     1/16  \n",
       "...             ...             ...            ...      ...  \n",
       "2410              0               0  KeyMode.MAJOR     1/16  \n",
       "2411              0               0  KeyMode.MAJOR     1/16  \n",
       "2412              0               0  KeyMode.MAJOR      1/2  \n",
       "2413              0               0  KeyMode.MAJOR      1/2  \n",
       "2414              0               0  KeyMode.MAJOR        1  \n",
       "\n",
       "[2415 rows x 8 columns]"
      ]
     },
     "execution_count": 21,
     "metadata": {},
     "output_type": "execute_result"
    }
   ],
   "source": [
    "df2"
   ]
  },
  {
   "cell_type": "code",
   "execution_count": null,
   "metadata": {},
   "outputs": [],
   "source": []
  }
 ],
 "metadata": {
  "kernelspec": {
   "display_name": "Python 3",
   "language": "python",
   "name": "python3"
  },
  "language_info": {
   "codemirror_mode": {
    "name": "ipython",
    "version": 3
   },
   "file_extension": ".py",
   "mimetype": "text/x-python",
   "name": "python",
   "nbconvert_exporter": "python",
   "pygments_lexer": "ipython3",
   "version": "3.8.3"
  }
 },
 "nbformat": 4,
 "nbformat_minor": 4
}
