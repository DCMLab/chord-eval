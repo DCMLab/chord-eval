{
 "cells": [
  {
   "cell_type": "code",
   "execution_count": null,
   "id": "6da2c5e0",
   "metadata": {},
   "outputs": [],
   "source": [
    "import sys, os\n",
    "from fractions import Fraction\n",
    "import pandas as pd\n",
    "import seaborn as sns\n",
    "from ms3 import transform, name2fifths, fifths2pc\n",
    "sys.path.append(os.path.abspath('../python_scripts/'))\n",
    "from data_types import ChordType, PitchType\n",
    "from constants import TRIAD_REDUCTION\n",
    "\n",
    "def vc(S):\n",
    "    \"\"\"Value counts & normalized column\"\"\"\n",
    "    vc = S.value_counts(dropna=False)\n",
    "    return pd.concat([vc, vc / vc.sum()], axis=1, keys=['counts', 'fraction'])"
   ]
  },
  {
   "cell_type": "code",
   "execution_count": null,
   "id": "04461bf0",
   "metadata": {},
   "outputs": [],
   "source": [
    "data = '../Data/Beethoven_sonata_progression/'\n",
    "csv_files = os.listdir(data)\n",
    "fnames = [os.path.splitext(f)[0] for f in csv_files]\n",
    "csv_paths = [os.path.join(data, f) for f in csv_files]\n",
    "dtypes = dict(binary=bool, vl=int)\n",
    "to_frac = lambda f: Fraction(f).limit_denominator(8)\n",
    "converters = dict(tbt=to_frac)\n",
    "D = pd.concat([pd.read_csv(p, dtype=dtypes, converters=converters) for p in csv_paths], keys=fnames).sort_index()\n",
    "D.head()"
   ]
  },
  {
   "cell_type": "markdown",
   "id": "ea44f875",
   "metadata": {},
   "source": [
    "**Percentage of diverging labels** (binary=True)"
   ]
  },
  {
   "cell_type": "code",
   "execution_count": null,
   "id": "4e3fa906",
   "metadata": {},
   "outputs": [],
   "source": [
    "vc(D.binary)"
   ]
  },
  {
   "cell_type": "markdown",
   "id": "133fe0d5",
   "metadata": {},
   "source": [
    "### Durations or counts?\n",
    "Set `delete_repetitions` to False to have the notebook account for the durations of divergences.\n",
    "\n",
    "Set it to True if you only care about their counts. In this case you will see the new proportion between identical and diverging labels."
   ]
  },
  {
   "cell_type": "code",
   "execution_count": null,
   "id": "f361f60f",
   "metadata": {},
   "outputs": [],
   "source": [
    "delete_repetitions = True\n",
    "\n",
    "if delete_repetitions:\n",
    "    changed1 = D.annotation1_chord != D.annotation1_chord.shift()\n",
    "    changed2 = D.annotation2_chord != D.annotation2_chord.shift()\n",
    "    D = D[changed1 | changed2]\n",
    "    print(D.binary.value_counts(normalize=True))"
   ]
  },
  {
   "cell_type": "code",
   "execution_count": null,
   "id": "f20dc52b",
   "metadata": {},
   "outputs": [],
   "source": [
    "df = D[D.binary] # select only diverging"
   ]
  },
  {
   "cell_type": "markdown",
   "id": "73a1ff3c",
   "metadata": {},
   "source": [
    "**Overview Spectral Pitch distances**"
   ]
  },
  {
   "cell_type": "code",
   "execution_count": null,
   "id": "04681667",
   "metadata": {},
   "outputs": [],
   "source": [
    "print(df.sps.describe())\n",
    "sns.histplot(data=df, x='sps', bins=50);"
   ]
  },
  {
   "cell_type": "markdown",
   "id": "3b2fa410",
   "metadata": {},
   "source": [
    "**Overview Voice Leading distances**"
   ]
  },
  {
   "cell_type": "code",
   "execution_count": null,
   "id": "938d2128",
   "metadata": {},
   "outputs": [],
   "source": [
    "print(df.vl.describe())\n",
    "vl = df.vl.value_counts()\n",
    "sns.barplot(x=vl.index, y=vl);"
   ]
  },
  {
   "cell_type": "markdown",
   "id": "60a526f2",
   "metadata": {},
   "source": [
    "**Overview tone-by-tone distances**"
   ]
  },
  {
   "cell_type": "code",
   "execution_count": null,
   "id": "fb220142",
   "metadata": {},
   "outputs": [],
   "source": [
    "print(df.tbt.astype(float).describe())\n",
    "tbt = df.tbt.value_counts()\n",
    "sns.barplot(x=tbt.index, y=tbt);"
   ]
  },
  {
   "cell_type": "markdown",
   "id": "85906ee1",
   "metadata": {},
   "source": [
    "## Expanding the data to inspect different categories of chord divergence"
   ]
  },
  {
   "cell_type": "code",
   "execution_count": null,
   "id": "9571dab7",
   "metadata": {},
   "outputs": [],
   "source": [
    "regex = r\"^([A-G](b*|#*)?)_(.*)_inv(\\d)$\"\n",
    "def is_triad(type_str):\n",
    "    val = ChordType[type_str]\n",
    "    return val.value < 4\n",
    "df = D[D.binary]\n",
    "for n, col in ((1, 'annotation1_chord'), (2, 'annotation2_chord')):\n",
    "    renaming = {0: f\"root{n}\", 2: f\"type{n}\", 3: f\"inv{n}\", 'triad': f\"triad{n}\", 'tpc': f\"tpc{n}\", 'pc': f\"pc{n}\"}\n",
    "    expanded = df[col].str.extract(regex).loc[:, [0, 2, 3]]\n",
    "    expanded['triad'] = transform(expanded[2], is_triad)\n",
    "    expanded['tpc'] = transform(expanded[0], name2fifths)\n",
    "    expanded['pc'] = transform(expanded.tpc, fifths2pc)\n",
    "    df = pd.concat([df, expanded.rename(columns=renaming)], axis=1)\n",
    "df = pd.concat([df,\n",
    "                (df.tpc1-df.tpc2).abs().rename('tpc_iv'), \n",
    "                (df.pc1 - df.pc2).abs().rename('pc_iv')], axis=1)\n",
    "df.pc_iv = df.pc_iv.where(df.pc_iv <= 6, 12 - df.pc_iv)\n",
    "df.head()"
   ]
  },
  {
   "cell_type": "code",
   "execution_count": null,
   "id": "17b81ac9",
   "metadata": {},
   "outputs": [],
   "source": [
    "same_root = df.tpc_iv == 0\n",
    "same_type = df.type1 == df.type2\n",
    "same_inversion = df.inv1 == df.inv2"
   ]
  },
  {
   "cell_type": "markdown",
   "id": "91818b99",
   "metadata": {
    "tags": []
   },
   "source": [
    "### Inspecting chords diverging only by inversion\n",
    "**Proportion of diverging chords that have the same root and type but different inversion (True)**"
   ]
  },
  {
   "cell_type": "code",
   "execution_count": null,
   "id": "d618bae4",
   "metadata": {},
   "outputs": [],
   "source": [
    "diverging_inv = same_root & same_type\n",
    "vc(diverging_inv)"
   ]
  },
  {
   "cell_type": "code",
   "execution_count": null,
   "id": "43cc16b0",
   "metadata": {},
   "outputs": [],
   "source": [
    "inv_groups = df.loc[diverging_inv, ['inv1', 'inv2']]\\\n",
    "                 .apply(lambda row: tuple(sorted(row.astype(int))), axis=1)\\\n",
    "                 .rename('inversions')\n",
    "inv_dist = inv_groups.map(lambda t: abs(t[0] - t[1])).rename('inv_dist')\n",
    "different_inversions = pd.concat([df[diverging_inv], inv_groups, inv_dist], axis=1)\n",
    "vc(different_inversions.inv_dist)"
   ]
  },
  {
   "cell_type": "code",
   "execution_count": null,
   "id": "13d6b6aa-4ee6-44c3-8b4d-e259848486c1",
   "metadata": {},
   "outputs": [],
   "source": [
    "different_inversions.groupby(['inv_dist', 'triad1', 'inversions']).size()"
   ]
  },
  {
   "cell_type": "markdown",
   "id": "06a10e91-3995-4fcc-ba23-117be58f48d8",
   "metadata": {
    "tags": []
   },
   "source": [
    "#### Tone by tone"
   ]
  },
  {
   "cell_type": "code",
   "execution_count": null,
   "id": "82b4789e-fe9e-47f2-b0aa-0f7657769330",
   "metadata": {},
   "outputs": [],
   "source": [
    "vc(different_inversions.tbt)"
   ]
  },
  {
   "cell_type": "code",
   "execution_count": null,
   "id": "b0e8baf8-8cc1-484c-9780-6c232f10be33",
   "metadata": {},
   "outputs": [],
   "source": [
    "different_inversions.groupby(['tbt', 'triad1', 'inversions']).size()"
   ]
  },
  {
   "cell_type": "markdown",
   "id": "506262f1",
   "metadata": {},
   "source": [
    "**Grouping `tbt` values by combinations of inversions shows that all tetrads have the distance `1/4` and all triads the distance `2/7`** Note that the chords in question all share the same root."
   ]
  },
  {
   "cell_type": "markdown",
   "id": "2e073946-2ba8-4d01-a766-67c017fb9b91",
   "metadata": {},
   "source": [
    "#### Voice leading"
   ]
  },
  {
   "cell_type": "code",
   "execution_count": null,
   "id": "6e92b1e9-efd6-4804-801c-ed0b5284cc28",
   "metadata": {},
   "outputs": [],
   "source": [
    "vc(different_inversions.vl)"
   ]
  },
  {
   "cell_type": "code",
   "execution_count": null,
   "id": "ef4578fd-b780-4af7-817d-a9c651f9315c",
   "metadata": {},
   "outputs": [],
   "source": [
    "different_inversions.groupby(['vl', 'inv_dist', 'triad1']).size()"
   ]
  },
  {
   "cell_type": "code",
   "execution_count": null,
   "id": "c63a073b-6b47-478a-8f73-eeb11974e098",
   "metadata": {},
   "outputs": [],
   "source": [
    "different_inversions.groupby(['inv_dist', 'triad1', 'type1', 'inversions', 'vl']).size()"
   ]
  },
  {
   "cell_type": "code",
   "execution_count": null,
   "id": "c5738727",
   "metadata": {},
   "outputs": [],
   "source": [
    "different_inversions.groupby(['vl', 'type1', 'inversions']).size()"
   ]
  },
  {
   "cell_type": "markdown",
   "id": "b61eff5a",
   "metadata": {},
   "source": [
    "**`18` is among the highest values that the voice leading distance yiels, so it is rather surprising that chords with the same root and type shall get this value**"
   ]
  },
  {
   "cell_type": "markdown",
   "id": "e9df9120-e0a6-440a-bd51-87e5261f826d",
   "metadata": {},
   "source": [
    "#### SPS"
   ]
  },
  {
   "cell_type": "code",
   "execution_count": null,
   "id": "a762b2d3",
   "metadata": {},
   "outputs": [],
   "source": [
    "different_inversions.groupby(['type1', 'inversions', 'sps']).size().head(60)"
   ]
  },
  {
   "cell_type": "markdown",
   "id": "4187e39a",
   "metadata": {},
   "source": [
    "**Surprising to see such different distances for transpositionally identical chord combinations**\n",
    "As an example, let's inspect all cases where both datasets have a diminished 7th chord on the same root, one in first, one in second inversion:"
   ]
  },
  {
   "cell_type": "code",
   "execution_count": null,
   "id": "0d1237d4",
   "metadata": {},
   "outputs": [],
   "source": [
    "different_inversions[(different_inversions.type1 == 'DIM7') & (different_inversions.inversions == ('1', '2'))]"
   ]
  },
  {
   "cell_type": "code",
   "execution_count": null,
   "id": "f461935c-978f-40fc-8005-12db38fe0f61",
   "metadata": {},
   "outputs": [],
   "source": [
    "gb = different_inversions.groupby('triad1').sps\n",
    "pd.concat([gb.min(), gb.max()], axis=1, keys=['min_sps', 'max_sps'])"
   ]
  },
  {
   "cell_type": "markdown",
   "id": "0a4eea36-f0b5-4165-83e9-1a960d0ebe44",
   "metadata": {
    "tags": []
   },
   "source": [
    "### Inspecting chords diverging only by type\n",
    "**Proportion of diverging chords that have the same root and inversion but different type (True)**"
   ]
  },
  {
   "cell_type": "code",
   "execution_count": null,
   "id": "2b145439-8eb5-4933-b932-48bef508d1ab",
   "metadata": {},
   "outputs": [],
   "source": [
    "diverging_type = same_root & same_inversion\n",
    "vc(diverging_type)"
   ]
  },
  {
   "cell_type": "markdown",
   "id": "87ddf0be-1e1a-4599-9171-5915ba3f2497",
   "metadata": {},
   "source": [
    "#### Tone by tone"
   ]
  },
  {
   "cell_type": "code",
   "execution_count": null,
   "id": "6ed80150-12a1-4e5a-b4bf-2e9c2ba368c8",
   "metadata": {},
   "outputs": [],
   "source": [
    "type_groups = df.loc[diverging_type, ['type1', 'type2']]\\\n",
    "                 .apply(lambda row: tuple(sorted(row)), axis=1)\\\n",
    "                 .rename('types')\n",
    "triad_groups = df.loc[diverging_type, ['triad1', 'triad2']]\\\n",
    "                 .apply(lambda row: tuple(sorted(row)), axis=1)\\\n",
    "                 .rename('triads')\n",
    "different_types = pd.concat([df[diverging_type], type_groups, triad_groups], axis=1)\n",
    "vc(different_types.tbt)"
   ]
  },
  {
   "cell_type": "code",
   "execution_count": null,
   "id": "d9a16f6c-c0a7-402d-8e7a-72df39daef17",
   "metadata": {},
   "outputs": [],
   "source": [
    "different_types.groupby(['tbt', 'triads', 'inv1']).size()"
   ]
  },
  {
   "cell_type": "code",
   "execution_count": null,
   "id": "daef5acf-cacc-43ea-b0dc-d6d2bfa13b3d",
   "metadata": {},
   "outputs": [],
   "source": [
    "different_types.groupby(['tbt', 'inv1', 'types']).size()"
   ]
  },
  {
   "cell_type": "code",
   "execution_count": null,
   "id": "0b5bbcc9-09c6-4667-a8ec-89aff916701a",
   "metadata": {},
   "outputs": [],
   "source": [
    "vc(different_types.vl)"
   ]
  },
  {
   "cell_type": "code",
   "execution_count": null,
   "id": "8627ca21-e885-4eab-a030-2645acc30245",
   "metadata": {},
   "outputs": [],
   "source": [
    "different_types.groupby(['vl', 'triads', 'types']).size()"
   ]
  },
  {
   "cell_type": "markdown",
   "id": "730e4e30-99f5-4ae9-8914-10bae20af657",
   "metadata": {},
   "source": [
    "#### SPS"
   ]
  },
  {
   "cell_type": "code",
   "execution_count": null,
   "id": "02a0cb61-2e14-4444-8040-91f24b744f31",
   "metadata": {},
   "outputs": [],
   "source": [
    "different_types.sps.describe()"
   ]
  },
  {
   "cell_type": "code",
   "execution_count": null,
   "id": "9d8b2652-4229-42a8-b1ed-9fc0b9bb76ba",
   "metadata": {},
   "outputs": [],
   "source": [
    "different_types[different_types.sps > 0.4]"
   ]
  },
  {
   "cell_type": "markdown",
   "id": "9bcacf12-e0e7-40ab-9a8b-821938515d8f",
   "metadata": {},
   "source": [
    "### Filtering out tetrad-triad correspondence (e.g. M <-> Mm7)"
   ]
  },
  {
   "cell_type": "code",
   "execution_count": null,
   "id": "072bd370-86ee-439f-a88f-b1cc875aca5a",
   "metadata": {},
   "outputs": [],
   "source": [
    "def reduce_tetrad(type_str):\n",
    "    val = ChordType[type_str]\n",
    "    return TRIAD_REDUCTION[val]\n",
    "\n",
    "same_type_reduced = transform(df.type1, reduce_tetrad) == transform(df.type2, reduce_tetrad)"
   ]
  },
  {
   "cell_type": "code",
   "execution_count": null,
   "id": "ab0d0a15-1832-4d7f-be95-e4551fc550c8",
   "metadata": {},
   "outputs": [],
   "source": [
    "diverging_type_reduced = diverging_type & ~same_type_reduced\n",
    "vc(diverging_type_reduced)"
   ]
  },
  {
   "cell_type": "code",
   "execution_count": null,
   "id": "b0d5b7b8-c5f2-4091-9d87-bc997943b98a",
   "metadata": {},
   "outputs": [],
   "source": [
    "different_types_reduced = df[diverging_type_reduced]\n",
    "vc(different_types_reduced.tbt).sort_index()"
   ]
  },
  {
   "cell_type": "code",
   "execution_count": null,
   "id": "6942d08b-2b11-4149-9401-8630da0533e4",
   "metadata": {},
   "outputs": [],
   "source": [
    "vc(different_types_reduced.vl).sort_index()"
   ]
  },
  {
   "cell_type": "code",
   "execution_count": null,
   "id": "9fc2cf04-f759-4901-87e0-09ebacdf03ad",
   "metadata": {},
   "outputs": [],
   "source": [
    "different_types_reduced.sps.describe()"
   ]
  },
  {
   "cell_type": "code",
   "execution_count": null,
   "id": "29543526-3ede-4ed2-b5a4-91f67e1dd18a",
   "metadata": {},
   "outputs": [],
   "source": [
    "different_types_reduced.sort_values('sps').head(50)"
   ]
  },
  {
   "cell_type": "markdown",
   "id": "6b262d7d-4a19-463e-9cb2-008cd13c82a5",
   "metadata": {
    "tags": []
   },
   "source": [
    "### Inspecting chords diverging only by root\n",
    "**Proportion of diverging chords that have the same type and inversion but different root (True)**"
   ]
  },
  {
   "cell_type": "code",
   "execution_count": null,
   "id": "9b91bb2d-616b-40d5-821f-61a41c6dc2d6",
   "metadata": {},
   "outputs": [],
   "source": [
    "diverging_root = same_type & same_inversion\n",
    "vc(diverging_root)"
   ]
  },
  {
   "cell_type": "markdown",
   "id": "95742a61-f6e6-4f8b-aa9e-227af32f3ca3",
   "metadata": {},
   "source": [
    "**Divergence by fifths**"
   ]
  },
  {
   "cell_type": "code",
   "execution_count": null,
   "id": "88c1c0f7-c9c2-4398-9aae-24da6f5c7b53",
   "metadata": {},
   "outputs": [],
   "source": [
    "different_roots = df[diverging_root].copy()\n",
    "vc(different_roots.tpc_iv)"
   ]
  },
  {
   "cell_type": "code",
   "execution_count": null,
   "id": "2ab5bd05-ecaf-44ae-8063-cbfee77ebe32",
   "metadata": {},
   "outputs": [],
   "source": [
    "different_roots[different_roots.tpc_iv == 11]"
   ]
  },
  {
   "cell_type": "markdown",
   "id": "95d619ff-d7b0-4618-a7a8-cb63af2815ee",
   "metadata": {},
   "source": [
    "**Divergence by semitones**"
   ]
  },
  {
   "cell_type": "code",
   "execution_count": null,
   "id": "a389e06d-920e-465b-89c5-250deb42460d",
   "metadata": {},
   "outputs": [],
   "source": [
    "vc(different_roots.pc_iv)"
   ]
  },
  {
   "cell_type": "code",
   "execution_count": null,
   "id": "45ed163f-ecd4-465b-89a4-1f2a4eca6b94",
   "metadata": {},
   "outputs": [],
   "source": [
    "vc(different_roots.tbt)"
   ]
  },
  {
   "cell_type": "code",
   "execution_count": null,
   "id": "e7abcb19-7d96-492f-acef-c8ff850cbcf1",
   "metadata": {},
   "outputs": [],
   "source": [
    "vc(different_roots.vl).sort_index()"
   ]
  },
  {
   "cell_type": "code",
   "execution_count": null,
   "id": "21c02884-7bfc-46ee-93a1-b39b2c82a19d",
   "metadata": {},
   "outputs": [],
   "source": [
    "different_roots.sps.describe()"
   ]
  }
 ],
 "metadata": {
  "interpreter": {
   "hash": "9c5f42a26e325216d3611861dbf42f5192720216e0a891700eab31d8978f6423"
  },
  "kernelspec": {
   "display_name": "eval",
   "language": "python",
   "name": "python3"
  },
  "language_info": {
   "codemirror_mode": {
    "name": "ipython",
    "version": 3
   },
   "file_extension": ".py",
   "mimetype": "text/x-python",
   "name": "python",
   "nbconvert_exporter": "python",
   "pygments_lexer": "ipython3",
   "version": "3.8.11"
  }
 },
 "nbformat": 4,
 "nbformat_minor": 5
}
