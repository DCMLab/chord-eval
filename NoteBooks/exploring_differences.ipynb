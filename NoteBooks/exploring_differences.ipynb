{
 "cells": [
  {
   "cell_type": "code",
   "execution_count": 1,
   "metadata": {},
   "outputs": [],
   "source": [
    "import os\n",
    "from fractions import Fraction\n",
    "import pandas as pd\n",
    "import seaborn as sns"
   ]
  },
  {
   "cell_type": "code",
   "execution_count": 2,
   "metadata": {},
   "outputs": [
    {
     "data": {
      "text/html": [
       "<div>\n",
       "<style scoped>\n",
       "    .dataframe tbody tr th:only-of-type {\n",
       "        vertical-align: middle;\n",
       "    }\n",
       "\n",
       "    .dataframe tbody tr th {\n",
       "        vertical-align: top;\n",
       "    }\n",
       "\n",
       "    .dataframe thead th {\n",
       "        text-align: right;\n",
       "    }\n",
       "</style>\n",
       "<table border=\"1\" class=\"dataframe\">\n",
       "  <thead>\n",
       "    <tr style=\"text-align: right;\">\n",
       "      <th></th>\n",
       "      <th></th>\n",
       "      <th>time</th>\n",
       "      <th>annotation1_chord</th>\n",
       "      <th>annotation2_chord</th>\n",
       "      <th>sps</th>\n",
       "      <th>vl</th>\n",
       "      <th>tbt</th>\n",
       "      <th>binary</th>\n",
       "    </tr>\n",
       "  </thead>\n",
       "  <tbody>\n",
       "    <tr>\n",
       "      <th rowspan=\"5\" valign=\"top\">01-1</th>\n",
       "      <th>0</th>\n",
       "      <td>0.00</td>\n",
       "      <td>F_MINOR_inv0</td>\n",
       "      <td>F_MINOR_inv0</td>\n",
       "      <td>0.0</td>\n",
       "      <td>0</td>\n",
       "      <td>0</td>\n",
       "      <td>False</td>\n",
       "    </tr>\n",
       "    <tr>\n",
       "      <th>1</th>\n",
       "      <td>0.25</td>\n",
       "      <td>F_MINOR_inv0</td>\n",
       "      <td>F_MINOR_inv0</td>\n",
       "      <td>0.0</td>\n",
       "      <td>0</td>\n",
       "      <td>0</td>\n",
       "      <td>False</td>\n",
       "    </tr>\n",
       "    <tr>\n",
       "      <th>2</th>\n",
       "      <td>0.50</td>\n",
       "      <td>F_MINOR_inv0</td>\n",
       "      <td>F_MINOR_inv0</td>\n",
       "      <td>0.0</td>\n",
       "      <td>0</td>\n",
       "      <td>0</td>\n",
       "      <td>False</td>\n",
       "    </tr>\n",
       "    <tr>\n",
       "      <th>3</th>\n",
       "      <td>0.75</td>\n",
       "      <td>F_MINOR_inv0</td>\n",
       "      <td>F_MINOR_inv0</td>\n",
       "      <td>0.0</td>\n",
       "      <td>0</td>\n",
       "      <td>0</td>\n",
       "      <td>False</td>\n",
       "    </tr>\n",
       "    <tr>\n",
       "      <th>4</th>\n",
       "      <td>1.00</td>\n",
       "      <td>F_MINOR_inv0</td>\n",
       "      <td>F_MINOR_inv0</td>\n",
       "      <td>0.0</td>\n",
       "      <td>0</td>\n",
       "      <td>0</td>\n",
       "      <td>False</td>\n",
       "    </tr>\n",
       "  </tbody>\n",
       "</table>\n",
       "</div>"
      ],
      "text/plain": [
       "        time annotation1_chord annotation2_chord  sps  vl tbt  binary\n",
       "01-1 0  0.00      F_MINOR_inv0      F_MINOR_inv0  0.0   0   0   False\n",
       "     1  0.25      F_MINOR_inv0      F_MINOR_inv0  0.0   0   0   False\n",
       "     2  0.50      F_MINOR_inv0      F_MINOR_inv0  0.0   0   0   False\n",
       "     3  0.75      F_MINOR_inv0      F_MINOR_inv0  0.0   0   0   False\n",
       "     4  1.00      F_MINOR_inv0      F_MINOR_inv0  0.0   0   0   False"
      ]
     },
     "execution_count": 2,
     "metadata": {},
     "output_type": "execute_result"
    }
   ],
   "source": [
    "data = '../Data/Beethoven_sonata_progression/'\n",
    "csv_files = os.listdir(data)\n",
    "fnames = [os.path.splitext(f)[0] for f in csv_files]\n",
    "csv_paths = [os.path.join(data, f) for f in csv_files]\n",
    "dtypes = dict(binary=bool, vl=int)\n",
    "to_frac = lambda f: Fraction(f).limit_denominator(8)\n",
    "converters = dict(tbt=to_frac)\n",
    "D = pd.concat([pd.read_csv(p, dtype=dtypes, converters=converters) for p in csv_paths], keys=fnames).sort_index()\n",
    "D.head()"
   ]
  },
  {
   "cell_type": "markdown",
   "metadata": {},
   "source": [
    "**Percentage of diverging labels** (binary=True)"
   ]
  },
  {
   "cell_type": "code",
   "execution_count": 3,
   "metadata": {},
   "outputs": [
    {
     "data": {
      "text/plain": [
       "False    0.666784\n",
       "True     0.333216\n",
       "Name: binary, dtype: float64"
      ]
     },
     "execution_count": 3,
     "metadata": {},
     "output_type": "execute_result"
    }
   ],
   "source": [
    "D.binary.value_counts(normalize=True)"
   ]
  },
  {
   "cell_type": "markdown",
   "metadata": {},
   "source": [
    "### Durations or counts?\n",
    "Set `delete_repetitions` to False to have the notebook account for the durations of divergences.\n",
    "\n",
    "Set it to True if you only care about their counts. In this case you will see the new proportion between identical and diverging labels."
   ]
  },
  {
   "cell_type": "code",
   "execution_count": 4,
   "metadata": {},
   "outputs": [
    {
     "name": "stdout",
     "output_type": "stream",
     "text": [
      "False    0.558847\n",
      "True     0.441153\n",
      "Name: binary, dtype: float64\n"
     ]
    }
   ],
   "source": [
    "delete_repetitions = True\n",
    "\n",
    "if delete_repetitions:\n",
    "    changed1 = D.annotation1_chord != D.annotation1_chord.shift()\n",
    "    changed2 = D.annotation2_chord != D.annotation2_chord.shift()\n",
    "    D = D[changed1 | changed2]\n",
    "    print(D.binary.value_counts(normalize=True))"
   ]
  },
  {
   "cell_type": "code",
   "execution_count": 5,
   "metadata": {},
   "outputs": [],
   "source": [
    "df = D[D.binary] # select only diverging"
   ]
  },
  {
   "cell_type": "markdown",
   "metadata": {},
   "source": [
    "**Overview Spectral Pitch distances**"
   ]
  },
  {
   "cell_type": "code",
   "execution_count": 6,
   "metadata": {},
   "outputs": [
    {
     "name": "stdout",
     "output_type": "stream",
     "text": [
      "count    3321.000000\n",
      "mean        0.278306\n",
      "std         0.262536\n",
      "min         0.000000\n",
      "25%         0.068873\n",
      "50%         0.163216\n",
      "75%         0.454415\n",
      "max         0.960042\n",
      "Name: sps, dtype: float64\n"
     ]
    },
    {
     "data": {
      "image/png": "[encoded data removed]",
      "text/plain": [
       "<Figure size 432x288 with 1 Axes>"
      ]
     },
     "metadata": {
      "needs_background": "light"
     },
     "output_type": "display_data"
    }
   ],
   "source": [
    "print(df.sps.describe())\n",
    "sns.histplot(data=df, x='sps', bins=50);"
   ]
  },
  {
   "cell_type": "markdown",
   "metadata": {},
   "source": [
    "**Overview Voice Leading distances**"
   ]
  },
  {
   "cell_type": "code",
   "execution_count": 7,
   "metadata": {},
   "outputs": [
    {
     "name": "stdout",
     "output_type": "stream",
     "text": [
      "count    3321.000000\n",
      "mean        9.128877\n",
      "std         5.975574\n",
      "min         0.000000\n",
      "25%         3.000000\n",
      "50%         9.000000\n",
      "75%        14.000000\n",
      "max        24.000000\n",
      "Name: vl, dtype: float64\n"
     ]
    },
    {
     "data": {
      "image/png": "[encoded data removed]",
      "text/plain": [
       "<Figure size 432x288 with 1 Axes>"
      ]
     },
     "metadata": {
      "needs_background": "light"
     },
     "output_type": "display_data"
    }
   ],
   "source": [
    "print(df.vl.describe())\n",
    "vl = df.vl.value_counts()\n",
    "sns.barplot(x=vl.index, y=vl);"
   ]
  },
  {
   "cell_type": "markdown",
   "metadata": {},
   "source": [
    "**Overview tone-by-tone distances**"
   ]
  },
  {
   "cell_type": "code",
   "execution_count": 8,
   "metadata": {},
   "outputs": [
    {
     "name": "stdout",
     "output_type": "stream",
     "text": [
      "count    3321.000000\n",
      "mean        0.498726\n",
      "std         0.283832\n",
      "min         0.125000\n",
      "25%         0.285714\n",
      "50%         0.428571\n",
      "75%         0.750000\n",
      "max         1.000000\n",
      "Name: tbt, dtype: float64\n"
     ]
    },
    {
     "data": {
      "image/png": "[encoded data removed]",
      "text/plain": [
       "<Figure size 432x288 with 1 Axes>"
      ]
     },
     "metadata": {
      "needs_background": "light"
     },
     "output_type": "display_data"
    }
   ],
   "source": [
    "print(df.tbt.astype(float).describe())\n",
    "tbt = df.tbt.value_counts()\n",
    "sns.barplot(x=tbt.index, y=tbt);"
   ]
  },
  {
   "cell_type": "markdown",
   "metadata": {},
   "source": [
    "## Expanding the data to inspect different categories of chord divergence"
   ]
  },
  {
   "cell_type": "code",
   "execution_count": 9,
   "metadata": {},
   "outputs": [
    {
     "data": {
      "text/html": [
       "<div>\n",
       "<style scoped>\n",
       "    .dataframe tbody tr th:only-of-type {\n",
       "        vertical-align: middle;\n",
       "    }\n",
       "\n",
       "    .dataframe tbody tr th {\n",
       "        vertical-align: top;\n",
       "    }\n",
       "\n",
       "    .dataframe thead th {\n",
       "        text-align: right;\n",
       "    }\n",
       "</style>\n",
       "<table border=\"1\" class=\"dataframe\">\n",
       "  <thead>\n",
       "    <tr style=\"text-align: right;\">\n",
       "      <th></th>\n",
       "      <th></th>\n",
       "      <th>time</th>\n",
       "      <th>annotation1_chord</th>\n",
       "      <th>annotation2_chord</th>\n",
       "      <th>sps</th>\n",
       "      <th>vl</th>\n",
       "      <th>tbt</th>\n",
       "      <th>binary</th>\n",
       "      <th>root1</th>\n",
       "      <th>type1</th>\n",
       "      <th>inv1</th>\n",
       "      <th>tpc1</th>\n",
       "      <th>pc1</th>\n",
       "      <th>root2</th>\n",
       "      <th>type2</th>\n",
       "      <th>inv2</th>\n",
       "      <th>tpc2</th>\n",
       "      <th>pc2</th>\n",
       "      <th>tpc_iv</th>\n",
       "      <th>pc_iv</th>\n",
       "    </tr>\n",
       "  </thead>\n",
       "  <tbody>\n",
       "    <tr>\n",
       "      <th rowspan=\"5\" valign=\"top\">01-1</th>\n",
       "      <th>30</th>\n",
       "      <td>5.25</td>\n",
       "      <td>E_DIMINISHED_inv1</td>\n",
       "      <td>C_MAJ_MIN7_inv2</td>\n",
       "      <td>0.049170</td>\n",
       "      <td>2</td>\n",
       "      <td>3/8</td>\n",
       "      <td>True</td>\n",
       "      <td>E</td>\n",
       "      <td>DIMINISHED</td>\n",
       "      <td>1</td>\n",
       "      <td>4</td>\n",
       "      <td>4</td>\n",
       "      <td>C</td>\n",
       "      <td>MAJ_MIN7</td>\n",
       "      <td>2</td>\n",
       "      <td>0</td>\n",
       "      <td>0</td>\n",
       "      <td>4</td>\n",
       "      <td>4</td>\n",
       "    </tr>\n",
       "    <tr>\n",
       "      <th>43</th>\n",
       "      <td>7.25</td>\n",
       "      <td>C_MAJOR_inv0</td>\n",
       "      <td>C_MAJ_MIN7_inv0</td>\n",
       "      <td>0.006025</td>\n",
       "      <td>2</td>\n",
       "      <td>1/8</td>\n",
       "      <td>True</td>\n",
       "      <td>C</td>\n",
       "      <td>MAJOR</td>\n",
       "      <td>0</td>\n",
       "      <td>0</td>\n",
       "      <td>0</td>\n",
       "      <td>C</td>\n",
       "      <td>MAJ_MIN7</td>\n",
       "      <td>0</td>\n",
       "      <td>0</td>\n",
       "      <td>0</td>\n",
       "      <td>0</td>\n",
       "      <td>0</td>\n",
       "    </tr>\n",
       "    <tr>\n",
       "      <th>56</th>\n",
       "      <td>10.25</td>\n",
       "      <td>Db_MAJ_MAJ7_inv3</td>\n",
       "      <td>Db_MAJ_MAJ7_inv1</td>\n",
       "      <td>0.075546</td>\n",
       "      <td>15</td>\n",
       "      <td>1/4</td>\n",
       "      <td>True</td>\n",
       "      <td>Db</td>\n",
       "      <td>MAJ_MAJ7</td>\n",
       "      <td>3</td>\n",
       "      <td>-5</td>\n",
       "      <td>1</td>\n",
       "      <td>Db</td>\n",
       "      <td>MAJ_MAJ7</td>\n",
       "      <td>1</td>\n",
       "      <td>-5</td>\n",
       "      <td>1</td>\n",
       "      <td>0</td>\n",
       "      <td>0</td>\n",
       "    </tr>\n",
       "    <tr>\n",
       "      <th>87</th>\n",
       "      <td>16.00</td>\n",
       "      <td>Ab_MAJOR_inv1</td>\n",
       "      <td>Eb_MAJOR_inv0</td>\n",
       "      <td>0.447499</td>\n",
       "      <td>12</td>\n",
       "      <td>6/7</td>\n",
       "      <td>True</td>\n",
       "      <td>Ab</td>\n",
       "      <td>MAJOR</td>\n",
       "      <td>1</td>\n",
       "      <td>-4</td>\n",
       "      <td>8</td>\n",
       "      <td>Eb</td>\n",
       "      <td>MAJOR</td>\n",
       "      <td>0</td>\n",
       "      <td>-3</td>\n",
       "      <td>3</td>\n",
       "      <td>1</td>\n",
       "      <td>5</td>\n",
       "    </tr>\n",
       "    <tr>\n",
       "      <th>95</th>\n",
       "      <td>18.00</td>\n",
       "      <td>Ab_MAJOR_inv1</td>\n",
       "      <td>Eb_MAJOR_inv0</td>\n",
       "      <td>0.447499</td>\n",
       "      <td>12</td>\n",
       "      <td>6/7</td>\n",
       "      <td>True</td>\n",
       "      <td>Ab</td>\n",
       "      <td>MAJOR</td>\n",
       "      <td>1</td>\n",
       "      <td>-4</td>\n",
       "      <td>8</td>\n",
       "      <td>Eb</td>\n",
       "      <td>MAJOR</td>\n",
       "      <td>0</td>\n",
       "      <td>-3</td>\n",
       "      <td>3</td>\n",
       "      <td>1</td>\n",
       "      <td>5</td>\n",
       "    </tr>\n",
       "  </tbody>\n",
       "</table>\n",
       "</div>"
      ],
      "text/plain": [
       "          time  annotation1_chord annotation2_chord       sps  vl  tbt  \\\n",
       "01-1 30   5.25  E_DIMINISHED_inv1   C_MAJ_MIN7_inv2  0.049170   2  3/8   \n",
       "     43   7.25       C_MAJOR_inv0   C_MAJ_MIN7_inv0  0.006025   2  1/8   \n",
       "     56  10.25   Db_MAJ_MAJ7_inv3  Db_MAJ_MAJ7_inv1  0.075546  15  1/4   \n",
       "     87  16.00      Ab_MAJOR_inv1     Eb_MAJOR_inv0  0.447499  12  6/7   \n",
       "     95  18.00      Ab_MAJOR_inv1     Eb_MAJOR_inv0  0.447499  12  6/7   \n",
       "\n",
       "         binary root1       type1 inv1  tpc1  pc1 root2     type2 inv2  tpc2  \\\n",
       "01-1 30    True     E  DIMINISHED    1     4    4     C  MAJ_MIN7    2     0   \n",
       "     43    True     C       MAJOR    0     0    0     C  MAJ_MIN7    0     0   \n",
       "     56    True    Db    MAJ_MAJ7    3    -5    1    Db  MAJ_MAJ7    1    -5   \n",
       "     87    True    Ab       MAJOR    1    -4    8    Eb     MAJOR    0    -3   \n",
       "     95    True    Ab       MAJOR    1    -4    8    Eb     MAJOR    0    -3   \n",
       "\n",
       "         pc2  tpc_iv  pc_iv  \n",
       "01-1 30    0       4      4  \n",
       "     43    0       0      0  \n",
       "     56    1       0      0  \n",
       "     87    3       1      5  \n",
       "     95    3       1      5  "
      ]
     },
     "execution_count": 9,
     "metadata": {},
     "output_type": "execute_result"
    }
   ],
   "source": [
    "from ms3 import transform, name2fifths, fifths2pc\n",
    "regex = r\"^([A-G](b*|#*)?)_(.*)_inv(\\d)$\"\n",
    "df = D[D.binary]\n",
    "for n, col in ((1, 'annotation1_chord'), (2, 'annotation2_chord')):\n",
    "    renaming = {0: f\"root{n}\", 2: f\"type{n}\", 3: f\"inv{n}\", 'tpc': f\"tpc{n}\", 'pc': f\"pc{n}\"}\n",
    "    expanded = df[col].str.extract(regex).loc[:, [0, 2, 3]]\n",
    "    expanded['tpc'] = transform(expanded[0], name2fifths)\n",
    "    expanded['pc'] = transform(expanded.tpc, fifths2pc)\n",
    "    df = pd.concat([df, expanded.rename(columns=renaming)], axis=1)\n",
    "df = pd.concat([df,\n",
    "                (df.tpc1-df.tpc2).abs().rename('tpc_iv'), \n",
    "                (df.pc1 - df.pc2).abs().rename('pc_iv')], axis=1)\n",
    "df.head()"
   ]
  },
  {
   "cell_type": "code",
   "execution_count": 10,
   "metadata": {},
   "outputs": [],
   "source": [
    "same_root = df.tpc_iv == 0\n",
    "same_type = df.type1 == df.type2\n",
    "same_inversion = df.inv1 == df.inv2"
   ]
  },
  {
   "cell_type": "markdown",
   "metadata": {},
   "source": [
    "### Inspecting chords diverging only by inversion\n",
    "**Proportion of diverging chords that have the same root and type but different inversion (True)**"
   ]
  },
  {
   "cell_type": "code",
   "execution_count": 11,
   "metadata": {},
   "outputs": [
    {
     "data": {
      "text/plain": [
       "False    0.715748\n",
       "True     0.284252\n",
       "dtype: float64"
      ]
     },
     "execution_count": 11,
     "metadata": {},
     "output_type": "execute_result"
    }
   ],
   "source": [
    "diverging_inv = same_root & same_type\n",
    "diverging_inv.value_counts(normalize=True)"
   ]
  },
  {
   "cell_type": "code",
   "execution_count": 12,
   "metadata": {},
   "outputs": [
    {
     "data": {
      "text/plain": [
       "tbt  inversions\n",
       "1/4  (0, 1)         50\n",
       "     (0, 2)         42\n",
       "     (0, 3)         42\n",
       "     (1, 2)         42\n",
       "     (1, 3)         33\n",
       "     (2, 3)         59\n",
       "2/7  (0, 1)        441\n",
       "     (0, 2)        158\n",
       "     (1, 2)         77\n",
       "dtype: int64"
      ]
     },
     "execution_count": 12,
     "metadata": {},
     "output_type": "execute_result"
    }
   ],
   "source": [
    "inv_groups = df.loc[diverging_inv, ['inv1', 'inv2']]\\\n",
    "                 .apply(lambda row: tuple(sorted(row)), axis=1)\\\n",
    "                 .rename('inversions')\n",
    "different_inversions = pd.concat([df[diverging_inv], inv_groups], axis=1)\n",
    "different_inversions.groupby(['tbt', 'inversions']).size()"
   ]
  },
  {
   "cell_type": "markdown",
   "metadata": {},
   "source": [
    "**Grouping `tbt` values by combinations of inversions shows that all tetrads have the distance `1/4` and all triads the distance `2/7`** Note that the chords in question all share the same root."
   ]
  },
  {
   "cell_type": "code",
   "execution_count": 13,
   "metadata": {},
   "outputs": [
    {
     "data": {
      "text/plain": [
       "vl  type1       inversions\n",
       "6   MAJ_MIN7    (0, 3)         34\n",
       "9   DIM7        (0, 1)          3\n",
       "                (0, 3)          8\n",
       "                (1, 2)          6\n",
       "                (2, 3)         10\n",
       "    DIMINISHED  (0, 1)         21\n",
       "                (1, 2)          2\n",
       "    HALF_DIM7   (1, 2)          2\n",
       "    MAJOR       (1, 2)         49\n",
       "    MAJ_MIN7    (1, 2)         34\n",
       "                (2, 3)         49\n",
       "    MINOR       (0, 1)        145\n",
       "    MIN_MIN7    (0, 1)          3\n",
       "12  MAJOR       (0, 1)        275\n",
       "    MAJ_MIN7    (0, 1)         44\n",
       "    MINOR       (1, 2)         26\n",
       "15  MAJOR       (0, 2)         82\n",
       "    MAJ_MAJ7    (1, 3)          1\n",
       "    MAJ_MIN7    (0, 2)         39\n",
       "    MINOR       (0, 2)         71\n",
       "18  DIM7        (0, 2)          2\n",
       "                (1, 3)         16\n",
       "    DIMINISHED  (0, 2)          5\n",
       "    HALF_DIM7   (0, 2)          1\n",
       "    MAJ_MIN7    (1, 3)         16\n",
       "dtype: int64"
      ]
     },
     "execution_count": 13,
     "metadata": {},
     "output_type": "execute_result"
    }
   ],
   "source": [
    "different_inversions.groupby(['vl', 'type1', 'inversions']).size()"
   ]
  },
  {
   "cell_type": "markdown",
   "metadata": {},
   "source": [
    "**`18` is among the highest values that the voice leading distance yiels, so it is rather surprising that chords with the same root and type shall get this value**"
   ]
  },
  {
   "cell_type": "code",
   "execution_count": 14,
   "metadata": {},
   "outputs": [
    {
     "data": {
      "text/plain": [
       "type1       inversions  sps     \n",
       "DIM7        (0, 1)      0.091002     1\n",
       "                        0.130723     2\n",
       "            (0, 2)      0.076837     1\n",
       "                        0.118461     1\n",
       "            (0, 3)      0.057999     1\n",
       "                        0.118810     6\n",
       "                        0.124679     1\n",
       "            (1, 2)      0.019882     1\n",
       "                        0.029056     1\n",
       "                        0.091002     1\n",
       "                        0.114036     3\n",
       "            (1, 3)      0.076837     1\n",
       "                        0.147762    12\n",
       "                        0.162639     1\n",
       "                        0.170808     2\n",
       "            (2, 3)      0.057999     1\n",
       "                        0.111540     6\n",
       "                        0.130723     1\n",
       "                        0.140453     2\n",
       "DIMINISHED  (0, 1)      0.024659     6\n",
       "                        0.026499     2\n",
       "                        0.036015     1\n",
       "                        0.085481     2\n",
       "                        0.130883     2\n",
       "                        0.133508     1\n",
       "                        0.150548     5\n",
       "                        0.171093     2\n",
       "            (0, 2)      0.048111     1\n",
       "                        0.152965     3\n",
       "                        0.157126     1\n",
       "            (1, 2)      0.148330     1\n",
       "                        0.162350     1\n",
       "HALF_DIM7   (0, 2)      0.139467     1\n",
       "            (1, 2)      0.030863     1\n",
       "                        0.115330     1\n",
       "MAJOR       (0, 1)      0.027139    13\n",
       "                        0.031077    27\n",
       "                        0.036333    25\n",
       "                        0.053503    22\n",
       "                        0.093544    28\n",
       "                        0.114853     9\n",
       "                        0.116383    20\n",
       "                        0.124611    14\n",
       "                        0.130603    30\n",
       "                        0.133071    37\n",
       "                        0.163216    12\n",
       "                        0.180520    38\n",
       "            (0, 2)      0.024611     1\n",
       "                        0.027429     1\n",
       "                        0.040469    25\n",
       "                        0.049883     2\n",
       "                        0.058125     5\n",
       "                        0.116644     9\n",
       "                        0.133568     6\n",
       "                        0.139162     4\n",
       "                        0.151023     3\n",
       "                        0.152092    22\n",
       "                        0.157429     4\n",
       "            (1, 2)      0.025841     2\n",
       "                        0.029654     7\n",
       "dtype: int64"
      ]
     },
     "execution_count": 14,
     "metadata": {},
     "output_type": "execute_result"
    }
   ],
   "source": [
    "different_inversions.groupby(['type1', 'inversions', 'sps']).size().head(60)"
   ]
  },
  {
   "cell_type": "markdown",
   "metadata": {},
   "source": [
    "**Surprising to see such different distances for transpositionally identical chord combinations**\n",
    "As an example, let's inspect all cases where both datasets have a diminished 7th chord on the same root, one in first, one in second inversion:"
   ]
  },
  {
   "cell_type": "code",
   "execution_count": 15,
   "metadata": {},
   "outputs": [
    {
     "data": {
      "text/html": [
       "<div>\n",
       "<style scoped>\n",
       "    .dataframe tbody tr th:only-of-type {\n",
       "        vertical-align: middle;\n",
       "    }\n",
       "\n",
       "    .dataframe tbody tr th {\n",
       "        vertical-align: top;\n",
       "    }\n",
       "\n",
       "    .dataframe thead th {\n",
       "        text-align: right;\n",
       "    }\n",
       "</style>\n",
       "<table border=\"1\" class=\"dataframe\">\n",
       "  <thead>\n",
       "    <tr style=\"text-align: right;\">\n",
       "      <th></th>\n",
       "      <th></th>\n",
       "      <th>time</th>\n",
       "      <th>annotation1_chord</th>\n",
       "      <th>annotation2_chord</th>\n",
       "      <th>sps</th>\n",
       "      <th>vl</th>\n",
       "      <th>tbt</th>\n",
       "      <th>binary</th>\n",
       "      <th>root1</th>\n",
       "      <th>type1</th>\n",
       "      <th>inv1</th>\n",
       "      <th>tpc1</th>\n",
       "      <th>pc1</th>\n",
       "      <th>root2</th>\n",
       "      <th>type2</th>\n",
       "      <th>inv2</th>\n",
       "      <th>tpc2</th>\n",
       "      <th>pc2</th>\n",
       "      <th>tpc_iv</th>\n",
       "      <th>pc_iv</th>\n",
       "      <th>inversions</th>\n",
       "    </tr>\n",
       "  </thead>\n",
       "  <tbody>\n",
       "    <tr>\n",
       "      <th rowspan=\"3\" valign=\"top\">03-1</th>\n",
       "      <th>2103</th>\n",
       "      <td>227.00000</td>\n",
       "      <td>B_DIM7_inv2</td>\n",
       "      <td>B_DIM7_inv1</td>\n",
       "      <td>0.114036</td>\n",
       "      <td>9</td>\n",
       "      <td>1/4</td>\n",
       "      <td>True</td>\n",
       "      <td>B</td>\n",
       "      <td>DIM7</td>\n",
       "      <td>2</td>\n",
       "      <td>5</td>\n",
       "      <td>11</td>\n",
       "      <td>B</td>\n",
       "      <td>DIM7</td>\n",
       "      <td>1</td>\n",
       "      <td>5</td>\n",
       "      <td>11</td>\n",
       "      <td>0</td>\n",
       "      <td>0</td>\n",
       "      <td>(1, 2)</td>\n",
       "    </tr>\n",
       "    <tr>\n",
       "      <th>2115</th>\n",
       "      <td>228.00000</td>\n",
       "      <td>Db_DIM7_inv2</td>\n",
       "      <td>Db_DIM7_inv1</td>\n",
       "      <td>0.091002</td>\n",
       "      <td>9</td>\n",
       "      <td>1/4</td>\n",
       "      <td>True</td>\n",
       "      <td>Db</td>\n",
       "      <td>DIM7</td>\n",
       "      <td>2</td>\n",
       "      <td>-5</td>\n",
       "      <td>1</td>\n",
       "      <td>Db</td>\n",
       "      <td>DIM7</td>\n",
       "      <td>1</td>\n",
       "      <td>-5</td>\n",
       "      <td>1</td>\n",
       "      <td>0</td>\n",
       "      <td>0</td>\n",
       "      <td>(1, 2)</td>\n",
       "    </tr>\n",
       "    <tr>\n",
       "      <th>2127</th>\n",
       "      <td>229.00000</td>\n",
       "      <td>B_DIM7_inv2</td>\n",
       "      <td>B_DIM7_inv1</td>\n",
       "      <td>0.114036</td>\n",
       "      <td>9</td>\n",
       "      <td>1/4</td>\n",
       "      <td>True</td>\n",
       "      <td>B</td>\n",
       "      <td>DIM7</td>\n",
       "      <td>2</td>\n",
       "      <td>5</td>\n",
       "      <td>11</td>\n",
       "      <td>B</td>\n",
       "      <td>DIM7</td>\n",
       "      <td>1</td>\n",
       "      <td>5</td>\n",
       "      <td>11</td>\n",
       "      <td>0</td>\n",
       "      <td>0</td>\n",
       "      <td>(1, 2)</td>\n",
       "    </tr>\n",
       "    <tr>\n",
       "      <th rowspan=\"3\" valign=\"top\">32-1</th>\n",
       "      <th>994</th>\n",
       "      <td>85.53125</td>\n",
       "      <td>Gb_DIM7_inv2</td>\n",
       "      <td>Gb_DIM7_inv1</td>\n",
       "      <td>0.019882</td>\n",
       "      <td>9</td>\n",
       "      <td>1/4</td>\n",
       "      <td>True</td>\n",
       "      <td>Gb</td>\n",
       "      <td>DIM7</td>\n",
       "      <td>2</td>\n",
       "      <td>-6</td>\n",
       "      <td>6</td>\n",
       "      <td>Gb</td>\n",
       "      <td>DIM7</td>\n",
       "      <td>1</td>\n",
       "      <td>-6</td>\n",
       "      <td>6</td>\n",
       "      <td>0</td>\n",
       "      <td>0</td>\n",
       "      <td>(1, 2)</td>\n",
       "    </tr>\n",
       "    <tr>\n",
       "      <th>1034</th>\n",
       "      <td>88.03125</td>\n",
       "      <td>E_DIM7_inv1</td>\n",
       "      <td>E_DIM7_inv2</td>\n",
       "      <td>0.029056</td>\n",
       "      <td>9</td>\n",
       "      <td>1/4</td>\n",
       "      <td>True</td>\n",
       "      <td>E</td>\n",
       "      <td>DIM7</td>\n",
       "      <td>1</td>\n",
       "      <td>4</td>\n",
       "      <td>4</td>\n",
       "      <td>E</td>\n",
       "      <td>DIM7</td>\n",
       "      <td>2</td>\n",
       "      <td>4</td>\n",
       "      <td>4</td>\n",
       "      <td>0</td>\n",
       "      <td>0</td>\n",
       "      <td>(1, 2)</td>\n",
       "    </tr>\n",
       "    <tr>\n",
       "      <th>1603</th>\n",
       "      <td>129.78125</td>\n",
       "      <td>B_DIM7_inv2</td>\n",
       "      <td>B_DIM7_inv1</td>\n",
       "      <td>0.114036</td>\n",
       "      <td>9</td>\n",
       "      <td>1/4</td>\n",
       "      <td>True</td>\n",
       "      <td>B</td>\n",
       "      <td>DIM7</td>\n",
       "      <td>2</td>\n",
       "      <td>5</td>\n",
       "      <td>11</td>\n",
       "      <td>B</td>\n",
       "      <td>DIM7</td>\n",
       "      <td>1</td>\n",
       "      <td>5</td>\n",
       "      <td>11</td>\n",
       "      <td>0</td>\n",
       "      <td>0</td>\n",
       "      <td>(1, 2)</td>\n",
       "    </tr>\n",
       "  </tbody>\n",
       "</table>\n",
       "</div>"
      ],
      "text/plain": [
       "                time annotation1_chord annotation2_chord       sps  vl  tbt  \\\n",
       "03-1 2103  227.00000       B_DIM7_inv2       B_DIM7_inv1  0.114036   9  1/4   \n",
       "     2115  228.00000      Db_DIM7_inv2      Db_DIM7_inv1  0.091002   9  1/4   \n",
       "     2127  229.00000       B_DIM7_inv2       B_DIM7_inv1  0.114036   9  1/4   \n",
       "32-1 994    85.53125      Gb_DIM7_inv2      Gb_DIM7_inv1  0.019882   9  1/4   \n",
       "     1034   88.03125       E_DIM7_inv1       E_DIM7_inv2  0.029056   9  1/4   \n",
       "     1603  129.78125       B_DIM7_inv2       B_DIM7_inv1  0.114036   9  1/4   \n",
       "\n",
       "           binary root1 type1 inv1  tpc1  pc1 root2 type2 inv2  tpc2  pc2  \\\n",
       "03-1 2103    True     B  DIM7    2     5   11     B  DIM7    1     5   11   \n",
       "     2115    True    Db  DIM7    2    -5    1    Db  DIM7    1    -5    1   \n",
       "     2127    True     B  DIM7    2     5   11     B  DIM7    1     5   11   \n",
       "32-1 994     True    Gb  DIM7    2    -6    6    Gb  DIM7    1    -6    6   \n",
       "     1034    True     E  DIM7    1     4    4     E  DIM7    2     4    4   \n",
       "     1603    True     B  DIM7    2     5   11     B  DIM7    1     5   11   \n",
       "\n",
       "           tpc_iv  pc_iv inversions  \n",
       "03-1 2103       0      0     (1, 2)  \n",
       "     2115       0      0     (1, 2)  \n",
       "     2127       0      0     (1, 2)  \n",
       "32-1 994        0      0     (1, 2)  \n",
       "     1034       0      0     (1, 2)  \n",
       "     1603       0      0     (1, 2)  "
      ]
     },
     "execution_count": 15,
     "metadata": {},
     "output_type": "execute_result"
    }
   ],
   "source": [
    "different_inversions[(different_inversions.type1 == 'DIM7') & (different_inversions.inversions == ('1', '2'))]"
   ]
  },
  {
   "cell_type": "code",
   "execution_count": null,
   "metadata": {},
   "outputs": [],
   "source": []
  }
 ],
 "metadata": {
  "kernelspec": {
   "display_name": "eval",
   "language": "python",
   "name": "eval"
  },
  "language_info": {
   "codemirror_mode": {
    "name": "ipython",
    "version": 3
   },
   "file_extension": ".py",
   "mimetype": "text/x-python",
   "name": "python",
   "nbconvert_exporter": "python",
   "pygments_lexer": "ipython3",
   "version": "3.8.11"
  }
 },
 "nbformat": 4,
 "nbformat_minor": 5
}
