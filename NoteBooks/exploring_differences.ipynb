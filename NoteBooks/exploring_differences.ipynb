{
 "cells": [
  {
   "cell_type": "code",
   "execution_count": null,
   "id": "b096aa27",
   "metadata": {},
   "outputs": [],
   "source": [
    "import sys, os\n",
    "from fractions import Fraction\n",
    "import pandas as pd\n",
    "import seaborn as sns\n",
    "from ms3 import transform, name2fifths, fifths2pc\n",
    "sys.path.append(os.path.abspath('../python_scripts/'))\n",
    "from data_types import ChordType, PitchType\n",
    "from constants import TRIAD_REDUCTION\n",
    "\n",
    "def vc(S):\n",
    "    \"\"\"Value counts & normalized column\"\"\"\n",
    "    vc = S.value_counts(dropna=False)\n",
    "    return pd.concat([vc, vc / vc.sum()], axis=1, keys=['counts', 'fraction'])"
   ]
  },
  {
   "cell_type": "code",
   "execution_count": null,
   "id": "75bc185c",
   "metadata": {},
   "outputs": [],
   "source": [
    "data = '../Data/sonatas_annotations/progressions/'\n",
    "csv_files = os.listdir(data)\n",
    "fnames = [os.path.splitext(f)[0] for f in csv_files]\n",
    "csv_paths = [os.path.join(data, f) for f in csv_files]\n",
    "dtypes = dict(binary=bool, vl=int)\n",
    "to_frac = lambda f: Fraction(f).limit_denominator(8)\n",
    "converters = dict(tbt=to_frac)\n",
    "D = pd.concat([pd.read_csv(p, dtype=dtypes, converters=converters) for p in csv_paths], keys=fnames).sort_index()\n",
    "D.head()"
   ]
  },
  {
   "cell_type": "markdown",
   "id": "50a2376d",
   "metadata": {},
   "source": [
    "**Percentage of diverging labels** (binary=True)"
   ]
  },
  {
   "cell_type": "code",
   "execution_count": null,
   "id": "20e9576e",
   "metadata": {},
   "outputs": [],
   "source": [
    "vc(D.binary)"
   ]
  },
  {
   "cell_type": "markdown",
   "id": "1863f90a",
   "metadata": {},
   "source": [
    "### Durations or counts?\n",
    "Set `delete_repetitions` to False to have the notebook account for the durations of divergences.\n",
    "\n",
    "Set it to True if you only care about their counts. In this case you will see the new proportion between identical and diverging labels."
   ]
  },
  {
   "cell_type": "code",
   "execution_count": null,
   "id": "33693365",
   "metadata": {},
   "outputs": [],
   "source": [
    "delete_repetitions = True\n",
    "\n",
    "if delete_repetitions:\n",
    "    changed1 = D.annotation1_chord != D.annotation1_chord.shift()\n",
    "    changed2 = D.annotation2_chord != D.annotation2_chord.shift()\n",
    "    D = D[changed1 | changed2]\n",
    "    print(D.binary.value_counts(normalize=True))"
   ]
  },
  {
   "cell_type": "code",
   "execution_count": null,
   "id": "84bb89d9",
   "metadata": {},
   "outputs": [],
   "source": [
    "df = D[D.binary] # select only diverging"
   ]
  },
  {
   "cell_type": "markdown",
   "id": "2ecf6ad0",
   "metadata": {},
   "source": [
    "**Overview Spectral Pitch distances**"
   ]
  },
  {
   "cell_type": "code",
   "execution_count": null,
   "id": "4373d5b8",
   "metadata": {},
   "outputs": [],
   "source": [
    "print(df.sps.describe())\n",
    "sns.histplot(data=df, x='sps', bins=50);"
   ]
  },
  {
   "cell_type": "markdown",
   "id": "d89101e7",
   "metadata": {},
   "source": [
    "**Overview Voice Leading distances**"
   ]
  },
  {
   "cell_type": "code",
   "execution_count": null,
   "id": "8c15b539",
   "metadata": {},
   "outputs": [],
   "source": [
    "print(df.vl.describe())\n",
    "vl = df.vl.value_counts()\n",
    "sns.barplot(x=vl.index, y=vl);"
   ]
  },
  {
   "cell_type": "markdown",
   "id": "a6fa46a5",
   "metadata": {},
   "source": [
    "**Overview tone-by-tone distances**"
   ]
  },
  {
   "cell_type": "code",
   "execution_count": null,
   "id": "ddd08bf1",
   "metadata": {},
   "outputs": [],
   "source": [
    "print(df.tbt.astype(float).describe())\n",
    "tbt = df.tbt.value_counts()\n",
    "sns.barplot(x=tbt.index, y=tbt);"
   ]
  },
  {
   "cell_type": "markdown",
   "id": "18025a37",
   "metadata": {},
   "source": [
    "## Expanding the data to inspect different categories of chord divergence"
   ]
  },
  {
   "cell_type": "code",
   "execution_count": null,
   "id": "d6c92c3d",
   "metadata": {},
   "outputs": [],
   "source": [
    "regex = r\"^([A-G](b*|#*)?)_(.*)_inv(\\d)$\"\n",
    "def is_triad(type_str):\n",
    "    val = ChordType[type_str]\n",
    "    return val.value < 4\n",
    "df = D[D.binary]\n",
    "for n, col in ((1, 'annotation1_chord'), (2, 'annotation2_chord')):\n",
    "    renaming = {0: f\"root{n}\", 2: f\"type{n}\", 3: f\"inv{n}\", 'triad': f\"triad{n}\", 'tpc': f\"tpc{n}\", 'pc': f\"pc{n}\"}\n",
    "    expanded = df[col].str.extract(regex).loc[:, [0, 2, 3]]\n",
    "    expanded['triad'] = transform(expanded[2], is_triad)\n",
    "    expanded['tpc'] = transform(expanded[0], name2fifths)\n",
    "    expanded['pc'] = transform(expanded.tpc, fifths2pc)\n",
    "    df = pd.concat([df, expanded.rename(columns=renaming)], axis=1)\n",
    "df = pd.concat([df,\n",
    "                (df.tpc1-df.tpc2).abs().rename('tpc_iv'), \n",
    "                (df.pc1 - df.pc2).abs().rename('pc_iv')], axis=1)\n",
    "df.pc_iv = df.pc_iv.where(df.pc_iv <= 6, 12 - df.pc_iv)\n",
    "df.head()"
   ]
  },
  {
   "cell_type": "code",
   "execution_count": null,
   "id": "ca79c5e0",
   "metadata": {},
   "outputs": [],
   "source": [
    "same_root = df.tpc_iv == 0\n",
    "same_type = df.type1 == df.type2\n",
    "same_inversion = df.inv1 == df.inv2"
   ]
  },
  {
   "cell_type": "markdown",
   "id": "8970854b",
   "metadata": {
    "tags": []
   },
   "source": [
    "### Inspecting chords diverging only by inversion\n",
    "**Proportion of diverging chords that have the same root and type but different inversion (True)**"
   ]
  },
  {
   "cell_type": "code",
   "execution_count": null,
   "id": "f27d30f7",
   "metadata": {},
   "outputs": [],
   "source": [
    "diverging_inv = same_root & same_type\n",
    "vc(diverging_inv)"
   ]
  },
  {
   "cell_type": "code",
   "execution_count": null,
   "id": "2532f838",
   "metadata": {},
   "outputs": [],
   "source": [
    "inv_groups = df.loc[diverging_inv, ['inv1', 'inv2']]\\\n",
    "                 .apply(lambda row: tuple(sorted(row.astype(int))), axis=1)\\\n",
    "                 .rename('inversions')\n",
    "inv_dist = inv_groups.map(lambda t: abs(t[0] - t[1])).rename('inv_dist')\n",
    "different_inversions = pd.concat([df[diverging_inv], inv_groups, inv_dist], axis=1)\n",
    "vc(different_inversions.inv_dist)"
   ]
  },
  {
   "cell_type": "code",
   "execution_count": null,
   "id": "56b83fda",
   "metadata": {},
   "outputs": [],
   "source": [
    "different_inversions.groupby(['inv_dist', 'triad1', 'inversions']).size()"
   ]
  },
  {
   "cell_type": "markdown",
   "id": "37318e33",
   "metadata": {
    "tags": []
   },
   "source": [
    "#### Tone by tone"
   ]
  },
  {
   "cell_type": "code",
   "execution_count": null,
   "id": "cb5953ea",
   "metadata": {},
   "outputs": [],
   "source": [
    "vc(different_inversions.tbt)"
   ]
  },
  {
   "cell_type": "code",
   "execution_count": null,
   "id": "6d1c9424",
   "metadata": {},
   "outputs": [],
   "source": [
    "different_inversions.groupby(['tbt', 'triad1', 'inversions']).size()"
   ]
  },
  {
   "cell_type": "markdown",
   "id": "d5be693f",
   "metadata": {},
   "source": [
    "**Grouping `tbt` values by combinations of inversions shows that all tetrads have the distance `1/4` and all triads the distance `2/7`** Note that the chords in question all share the same root."
   ]
  },
  {
   "cell_type": "markdown",
   "id": "2cafe55c",
   "metadata": {},
   "source": [
    "#### Voice leading"
   ]
  },
  {
   "cell_type": "code",
   "execution_count": null,
   "id": "78692171",
   "metadata": {},
   "outputs": [],
   "source": [
    "vc(different_inversions.vl)"
   ]
  },
  {
   "cell_type": "code",
   "execution_count": null,
   "id": "95c16d71",
   "metadata": {},
   "outputs": [],
   "source": [
    "different_inversions.groupby(['vl', 'inv_dist', 'triad1']).size()"
   ]
  },
  {
   "cell_type": "code",
   "execution_count": null,
   "id": "404f8cb9",
   "metadata": {},
   "outputs": [],
   "source": [
    "different_inversions.groupby(['inv_dist', 'triad1', 'type1', 'inversions', 'vl']).size()"
   ]
  },
  {
   "cell_type": "code",
   "execution_count": null,
   "id": "795940e7",
   "metadata": {},
   "outputs": [],
   "source": [
    "different_inversions.groupby(['vl', 'type1', 'inversions']).size()"
   ]
  },
  {
   "cell_type": "markdown",
   "id": "f276371f",
   "metadata": {},
   "source": [
    "**`18` is among the highest values that the voice leading distance yiels, so it is rather surprising that chords with the same root and type shall get this value**"
   ]
  },
  {
   "cell_type": "markdown",
   "id": "c1b06315",
   "metadata": {},
   "source": [
    "#### SPS"
   ]
  },
  {
   "cell_type": "code",
   "execution_count": null,
   "id": "bdae337e",
   "metadata": {},
   "outputs": [],
   "source": [
    "different_inversions.groupby(['type1', 'inversions', 'sps']).size().head(60)"
   ]
  },
  {
   "cell_type": "markdown",
   "id": "da819f51",
   "metadata": {},
   "source": [
    "**Surprising to see such different distances for transpositionally identical chord combinations**\n",
    "As an example, let's inspect all cases where both datasets have a diminished 7th chord on the same root, one in first, one in second inversion:"
   ]
  },
  {
   "cell_type": "code",
   "execution_count": null,
   "id": "40dcb736",
   "metadata": {},
   "outputs": [],
   "source": [
    "different_inversions[(different_inversions.type1 == 'DIM7') & (different_inversions.inversions == ('1', '2'))]"
   ]
  },
  {
   "cell_type": "code",
   "execution_count": null,
   "id": "0c9da040",
   "metadata": {},
   "outputs": [],
   "source": [
    "gb = different_inversions.groupby('triad1').sps\n",
    "pd.concat([gb.min(), gb.max()], axis=1, keys=['min_sps', 'max_sps'])"
   ]
  },
  {
   "cell_type": "markdown",
   "id": "cb61db07",
   "metadata": {
    "tags": []
   },
   "source": [
    "### Inspecting chords diverging only by type\n",
    "**Proportion of diverging chords that have the same root and inversion but different type (True)**"
   ]
  },
  {
   "cell_type": "code",
   "execution_count": null,
   "id": "1bac0fd0",
   "metadata": {},
   "outputs": [],
   "source": [
    "diverging_type = same_root & same_inversion\n",
    "vc(diverging_type)"
   ]
  },
  {
   "cell_type": "markdown",
   "id": "e844e1be",
   "metadata": {},
   "source": [
    "#### Tone by tone"
   ]
  },
  {
   "cell_type": "code",
   "execution_count": null,
   "id": "138a1933",
   "metadata": {},
   "outputs": [],
   "source": [
    "type_groups = df.loc[diverging_type, ['type1', 'type2']]\\\n",
    "                 .apply(lambda row: tuple(sorted(row)), axis=1)\\\n",
    "                 .rename('types')\n",
    "triad_groups = df.loc[diverging_type, ['triad1', 'triad2']]\\\n",
    "                 .apply(lambda row: tuple(sorted(row)), axis=1)\\\n",
    "                 .rename('triads')\n",
    "different_types = pd.concat([df[diverging_type], type_groups, triad_groups], axis=1)\n",
    "vc(different_types.tbt)"
   ]
  },
  {
   "cell_type": "code",
   "execution_count": null,
   "id": "f12d7933",
   "metadata": {},
   "outputs": [],
   "source": [
    "different_types.groupby(['tbt', 'triads', 'inv1']).size()"
   ]
  },
  {
   "cell_type": "code",
   "execution_count": null,
   "id": "ea2952a0",
   "metadata": {},
   "outputs": [],
   "source": [
    "different_types.groupby(['tbt', 'inv1', 'types']).size()"
   ]
  },
  {
   "cell_type": "code",
   "execution_count": null,
   "id": "b0f95f20",
   "metadata": {},
   "outputs": [],
   "source": [
    "vc(different_types.vl)"
   ]
  },
  {
   "cell_type": "code",
   "execution_count": null,
   "id": "0ce254a4",
   "metadata": {},
   "outputs": [],
   "source": [
    "different_types.groupby(['vl', 'triads', 'types']).size()"
   ]
  },
  {
   "cell_type": "markdown",
   "id": "595bd172",
   "metadata": {},
   "source": [
    "#### SPS"
   ]
  },
  {
   "cell_type": "code",
   "execution_count": null,
   "id": "ebed5285",
   "metadata": {},
   "outputs": [],
   "source": [
    "different_types.sps.describe()"
   ]
  },
  {
   "cell_type": "code",
   "execution_count": null,
   "id": "bb197198",
   "metadata": {},
   "outputs": [],
   "source": [
    "different_types[different_types.sps > 0.4]"
   ]
  },
  {
   "cell_type": "markdown",
   "id": "cb93f798",
   "metadata": {},
   "source": [
    "### Filtering out tetrad-triad correspondence (e.g. M <-> Mm7)"
   ]
  },
  {
   "cell_type": "code",
   "execution_count": null,
   "id": "79cfb35f",
   "metadata": {},
   "outputs": [],
   "source": [
    "def reduce_tetrad(type_str):\n",
    "    val = ChordType[type_str]\n",
    "    return TRIAD_REDUCTION[val]\n",
    "\n",
    "same_type_reduced = transform(df.type1, reduce_tetrad) == transform(df.type2, reduce_tetrad)"
   ]
  },
  {
   "cell_type": "code",
   "execution_count": null,
   "id": "28e1865b",
   "metadata": {},
   "outputs": [],
   "source": [
    "diverging_type_reduced = diverging_type & ~same_type_reduced\n",
    "vc(diverging_type_reduced)"
   ]
  },
  {
   "cell_type": "code",
   "execution_count": null,
   "id": "49ebb138",
   "metadata": {},
   "outputs": [],
   "source": [
    "different_types_reduced = df[diverging_type_reduced]\n",
    "vc(different_types_reduced.tbt).sort_index()"
   ]
  },
  {
   "cell_type": "code",
   "execution_count": null,
   "id": "0ef1bb7d",
   "metadata": {},
   "outputs": [],
   "source": [
    "vc(different_types_reduced.vl).sort_index()"
   ]
  },
  {
   "cell_type": "code",
   "execution_count": null,
   "id": "51d61ebf",
   "metadata": {},
   "outputs": [],
   "source": [
    "different_types_reduced.sps.describe()"
   ]
  },
  {
   "cell_type": "code",
   "execution_count": null,
   "id": "fa477256",
   "metadata": {},
   "outputs": [],
   "source": [
    "different_types_reduced.sort_values('sps').head(50)"
   ]
  },
  {
   "cell_type": "markdown",
   "id": "b23aa677",
   "metadata": {
    "tags": []
   },
   "source": [
    "### Inspecting chords diverging only by root\n",
    "**Proportion of diverging chords that have the same type and inversion but different root (True)**"
   ]
  },
  {
   "cell_type": "code",
   "execution_count": null,
   "id": "66aec300",
   "metadata": {},
   "outputs": [],
   "source": [
    "diverging_root = same_type & same_inversion\n",
    "vc(diverging_root)"
   ]
  },
  {
   "cell_type": "markdown",
   "id": "987c6277",
   "metadata": {},
   "source": [
    "**Divergence by fifths**"
   ]
  },
  {
   "cell_type": "code",
   "execution_count": null,
   "id": "cd33e986",
   "metadata": {},
   "outputs": [],
   "source": [
    "different_roots = df[diverging_root].copy()\n",
    "vc(different_roots.tpc_iv)"
   ]
  },
  {
   "cell_type": "code",
   "execution_count": null,
   "id": "a23b8730",
   "metadata": {},
   "outputs": [],
   "source": [
    "different_roots[different_roots.tpc_iv == 11]"
   ]
  },
  {
   "cell_type": "markdown",
   "id": "90ff918b",
   "metadata": {},
   "source": [
    "**Divergence by semitones**"
   ]
  },
  {
   "cell_type": "code",
   "execution_count": null,
   "id": "dc921895",
   "metadata": {},
   "outputs": [],
   "source": [
    "vc(different_roots.pc_iv)"
   ]
  },
  {
   "cell_type": "code",
   "execution_count": null,
   "id": "7688003f",
   "metadata": {},
   "outputs": [],
   "source": [
    "vc(different_roots.tbt)"
   ]
  },
  {
   "cell_type": "code",
   "execution_count": null,
   "id": "cf03cfa8",
   "metadata": {},
   "outputs": [],
   "source": [
    "vc(different_roots.vl).sort_index()"
   ]
  },
  {
   "cell_type": "code",
   "execution_count": null,
   "id": "b4b6ea09",
   "metadata": {},
   "outputs": [],
   "source": [
    "different_roots.sps.describe()"
   ]
  }
 ],
 "metadata": {
  "interpreter": {
   "hash": "9c5f42a26e325216d3611861dbf42f5192720216e0a891700eab31d8978f6423"
  },
  "kernelspec": {
   "display_name": "eval",
   "language": "python",
   "name": "python3"
  },
  "language_info": {
   "codemirror_mode": {
    "name": "ipython",
    "version": 3
   },
   "file_extension": ".py",
   "mimetype": "text/x-python",
   "name": "python",
   "nbconvert_exporter": "python",
   "pygments_lexer": "ipython3",
   "version": "3.8.11"
  }
 },
 "nbformat": 4,
 "nbformat_minor": 5
}
