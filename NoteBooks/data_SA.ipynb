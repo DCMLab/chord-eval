{
 "cells": [
  {
   "cell_type": "markdown",
   "id": "2610805a-03b6-4352-a934-b9b27aed8ded",
   "metadata": {},
   "source": [
    "# CSV files for sonatas_annotations.ipynb\n",
    "\n",
    "This note book contains the code that builds every csv files needed for the notebook 'sonatas_annotations'."
   ]
  },
  {
   "cell_type": "code",
   "execution_count": null,
   "id": "1c6a7804-0e67-4326-aed3-f55404ff2271",
   "metadata": {},
   "outputs": [],
   "source": [
    "import pandas as pd\n",
    "import numpy as np\n",
    "import re\n",
    "import sys\n",
    "import os\n",
    "sys.path.append('../python_scripts')\n",
    "\n",
    "from glob import glob\n",
    "from fractions import Fraction\n",
    "from ms3 import Parse\n",
    "\n",
    "from metric import get_distance\n",
    "from progression import get_progression\n",
    "from data_types import ChordType,PitchType\n",
    "from constants import TRIAD_REDUCTION\n",
    "from utils import get_chord_pitches"
   ]
  },
  {
   "cell_type": "markdown",
   "id": "a8246b31-2b26-4501-afcb-a682ffd0ac0e",
   "metadata": {},
   "source": [
    "___\n",
    "\n",
    "Creation of the folder Beethoven_sonata_progression with the the csv files of both annotations of the first movement of Beethoven sonatas."
   ]
  },
  {
   "cell_type": "code",
   "execution_count": null,
   "id": "de30014d-40c1-4994-aa1b-899b65b1d994",
   "metadata": {
    "scrolled": true,
    "tags": []
   },
   "outputs": [],
   "source": [
    "for dcml_df_path in glob(\"../Data/sonatas_annotations/Beethoven-labels/dcml*.tsv\", recursive=True):\n",
    "\n",
    "    dcml_df = pd.read_csv(dcml_df_path, sep='\\t', converters={'duration': Fraction})\n",
    "    dcml_df['chord_type'] = dcml_df['chord_type'].apply(lambda r : ChordType[r.split(\".\")[1]])\n",
    "    dcml_df.replace({np.nan:None}, inplace=True)\n",
    "    \n",
    "    ##\n",
    "    \n",
    "    num = dcml_df_path.split('-')[2]\n",
    "    movement = dcml_df_path.split('-')[3]\n",
    "    fh_df_path = '../Data/sonatas_annotations/Beethoven-labels/fh-'+num+'-'+movement\n",
    "    \n",
    "    fh_df = pd.read_csv(fh_df_path, sep='\\t', converters={'duration': Fraction})\n",
    "    fh_df['chord_type'] = fh_df['chord_type'].apply(lambda r : ChordType[r.split(\".\")[1]])\n",
    "    fh_df.replace({np.nan:None}, inplace=True)\n",
    "\n",
    "    progression = get_progression(dcml_df, fh_df, vl_kws={'bass_weight':3}, tbt_kws={'bass_weight':3, 'root_weight':3})\n",
    "    \n",
    "    target_path = '../Data/sonatas_annotations/progressions/'+num+'-1.csv'\n",
    "    progression.to_csv(target_path, index=False)"
   ]
  },
  {
   "cell_type": "markdown",
   "id": "d8400867-56ef-4de1-8040-8e4e8dcb094c",
   "metadata": {},
   "source": [
    "___\n",
    "\n",
    "Creation of the csv file sonata_comparisons.csv with the average distance between both annotations."
   ]
  },
  {
   "cell_type": "code",
   "execution_count": null,
   "id": "a9353485-b536-41e5-99d8-b2c417513fbe",
   "metadata": {},
   "outputs": [],
   "source": [
    "df_comparison=[]\n",
    "\n",
    "for progression_df_path in glob('../Data/sonatas_annotations/progressions/*-1.csv', recursive=True):\n",
    "    \n",
    "    num = progression_df_path.split('/')[4].split('-')[0]\n",
    "    progression = pd.read_csv(progression_df_path)\n",
    "    \n",
    "    duration_length = progression.time.iloc[-1]+progression.matched_duration.iloc[-1]\n",
    "    \n",
    "    average_sps = np.dot(progression.sps,progression.matched_duration)/duration_length\n",
    "    average_vl  = np.dot(progression.vl,progression.matched_duration)/duration_length\n",
    "    average_tbt = np.dot(progression.tbt,progression.matched_duration)/duration_length\n",
    "    average_bin = np.dot(progression.binary,progression.matched_duration)/duration_length\n",
    "    \n",
    "    features = {'number':num,\n",
    "                'average_sps':average_sps,\n",
    "                'average_vl' :average_vl,\n",
    "                'average_tbt':average_tbt,\n",
    "                'average_bin':average_bin}\n",
    "    \n",
    "    df_comparison.append(features)\n",
    "    \n",
    "df_comparison = pd.DataFrame(df_comparison).sort_values('number')\n",
    "df_comparison.to_csv('../Data/sonatas_annotations/sonatas_comparison.csv', index=False)"
   ]
  },
  {
   "cell_type": "markdown",
   "id": "b9bb1f6e-64f9-48f8-8eb1-5a7125a780d2",
   "metadata": {},
   "source": [
    "___\n",
    "Creation of tsv file thanks to which labels will be added to the mscx file of each sonata."
   ]
  },
  {
   "cell_type": "code",
   "execution_count": null,
   "id": "d6d6b4a6-bcb1-4ad8-9420-aea01de3c0d0",
   "metadata": {},
   "outputs": [],
   "source": [
    "def change_typo(label:str):\n",
    "    \"\"\"\n",
    "    \"\"\"\n",
    "    chord_type_typo = {\"MAJOR\":lambda x:x,\n",
    "                   \"MINOR\":lambda x:x.lower(),\n",
    "                   \"DIMINISHED\":lambda x:x.lower()+\"o\",\n",
    "                   \"AUGMENTED\":lambda x:x+\"+\",\n",
    "                   \"MAJ_MAJ7\":lambda x:x+\"M7\",\n",
    "                   \"MAJ_MIN7\":lambda x:x+\"7\",\n",
    "                   \"MIN_MAJ7\":lambda x:x.lower()+\"M7\",\n",
    "                   \"MIN_MIN7\":lambda x:x.lower()+\"m7\",\n",
    "                   \"DIM7\":lambda x:x.lower()+\"o7\",\n",
    "                   \"HALF_DIM7\":lambda x:x.lower()+\"%7\",\n",
    "                   \"AUG_MIN7\":lambda x:x+\"+7\",\n",
    "                   \"AUG_MAJ7\":lambda x:x+\"+M7\"\n",
    "                  }\n",
    "    \n",
    "    root=label[:1] if label[1]==\"_\" else label[:2]\n",
    "    chord_type=label[2:-5] if label[1]==\"_\" else label[3:-5]\n",
    "    \n",
    "    new_label=chord_type_typo[chord_type](root)\n",
    "    if label[-1] != \"0\":\n",
    "        new_label += \"_\"+label[-1]\n",
    "        \n",
    "    return new_label"
   ]
  },
  {
   "cell_type": "code",
   "execution_count": null,
   "id": "25a04cfc-c12d-41b0-949a-dba3211870c0",
   "metadata": {},
   "outputs": [],
   "source": [
    "for dcml_df_path in glob(\"../Data/sonatas_annotations/Beethoven-labels/dcml*.tsv\", recursive=True):\n",
    "\n",
    "    dcml_df = pd.read_csv(dcml_df_path, sep='\\t', converters={'duration': Fraction, 'mn_onset': Fraction})\n",
    "    dcml_df['time'] = [0]+list(dcml_df.duration.cumsum().astype(float, copy=False)[:-1])\n",
    "\n",
    "    num = dcml_df_path.split('-')[2]\n",
    "    progression =  pd.read_csv('../Data/sonatas_annotations/progressions/' + num + '-1.csv')\n",
    "\n",
    "    label_changes=(progression[['binary', 'annotation1_chord', 'annotation2_chord']].shift() != progression[['binary', 'annotation1_chord', 'annotation2_chord']]).apply(lambda r: r.any(), axis=1)\n",
    "    annotations=pd.merge(progression[label_changes][['time', 'annotation1_chord', 'annotation2_chord']], dcml_df[['time', 'mc', 'mn_onset']], on='time', how='inner')\n",
    "    \n",
    "    annotations[\"label1\"]=annotations.annotation1_chord.apply(lambda x:change_typo(x))\n",
    "    annotations[\"label2\"]=annotations.annotation2_chord.apply(lambda x:change_typo(x))\n",
    "\n",
    "    mc=list(annotations.mc)*2\n",
    "    mn_onset=list(annotations.mn_onset)*2\n",
    "    label=list(annotations.label1)+list(annotations.label2)\n",
    "    color=['black']*len(annotations)+['red']*len(annotations)\n",
    "\n",
    "    df = pd.DataFrame({'mc':mc,\n",
    "                       'mc_onset':mn_onset,\n",
    "                       'color_name': color,\n",
    "                       'label':label\n",
    "                        }).sort_values(by=['mc', 'mc_onset', 'color_name'])\n",
    "    \n",
    "    label1_b=df.label.iloc[0]\n",
    "    label1_r=df.label.iloc[1]\n",
    "    df.label.iloc[0]=label1_b + \"_dcml\"\n",
    "    df.label.iloc[1]=label1_r + \"_fh\"\n",
    "    \n",
    "    no_repetition = df.label.shift(2) != df.label\n",
    "\n",
    "    target_path = '../Data/Beethoven_sonatas_scores/labels/'+num+'-1.tsv'\n",
    "    df[no_repetition].to_csv(target_path, index=False, sep = '\\t')"
   ]
  },
  {
   "cell_type": "code",
   "execution_count": null,
   "id": "8cc0fa77-7d5e-4c1f-bc23-33b4ce9197da",
   "metadata": {},
   "outputs": [],
   "source": [
    "path = \"../Data/Beethoven_sonatas_scores/\"\n",
    "\n",
    "### emptying the scores of labels\n",
    "#p = Parse(os.path.join(path, 'MS3'), exclude_re='comp')\n",
    "#p.parse_mscx()\n",
    "#p.detach_labels()\n",
    "#p.store_mscx(root_dir=os.path.join(path, 'empty'))\n",
    "\n",
    "### attaching labels to empty scores\n",
    "p = Parse(path, exclude_re='_comparison')\n",
    "p.parse(['MS3', 'labels'])\n",
    "p.add_detached_annotations('MS3', 'labels')\n",
    "p.attach_labels(staff=2, voice=1, check_for_clashes=False)\n",
    "p.store_mscx(root_dir=os.path.join(path, 'comparison'))"
   ]
  },
  {
   "cell_type": "raw",
   "id": "453672e0-33ff-4bd6-bb71-635a9bf81385",
   "metadata": {},
   "source": [
    "basename=\"30-1\"\n",
    "annotations_dir=\"../Data/Beethoven_sonatas_scores\"\n",
    "labels_dir=\"../Data/Beethoven_sonatas_scores\"\n",
    " \n",
    "# Add musescore and tsv suffixes to filename match\n",
    "filename_regex = re.compile(basename + \"\\\\.(mscx|tsv)\")             \n",
    "\n",
    "# Parse scores and tsvs\n",
    "parse = Parse(annotations_dir, file_re=filename_regex)                   \n",
    "\n",
    "parse.add_dir(labels_dir, key=\"labels\", file_re=filename_regex)               \n",
    "parse.parse()\n",
    "\n",
    "# Write annotations to score\n",
    "parse.add_detached_annotations(\"MS3\", \"labels\")\n",
    "parse.attach_labels(staff=2, voice=1, check_for_clashes=False)\n",
    "\n",
    "# Write score out to file\n",
    "parse.store_mscx(root_dir=labels_dir, suffix=\"_comparison\", overwrite=True)"
   ]
  },
  {
   "cell_type": "code",
   "execution_count": null,
   "id": "c380647f-2884-45cb-abec-f858da8775df",
   "metadata": {},
   "outputs": [],
   "source": []
  }
 ],
 "metadata": {
  "kernelspec": {
   "display_name": "eval",
   "language": "python",
   "name": "eval"
  },
  "language_info": {
   "codemirror_mode": {
    "name": "ipython",
    "version": 3
   },
   "file_extension": ".py",
   "mimetype": "text/x-python",
   "name": "python",
   "nbconvert_exporter": "python",
   "pygments_lexer": "ipython3",
   "version": "3.8.11"
  }
 },
 "nbformat": 4,
 "nbformat_minor": 5
}
